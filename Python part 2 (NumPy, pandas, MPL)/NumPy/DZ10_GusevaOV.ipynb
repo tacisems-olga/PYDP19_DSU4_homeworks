{
 "cells": [
  {
   "cell_type": "code",
   "execution_count": null,
   "metadata": {},
   "outputs": [],
   "source": [
    "import numpy as np"
   ]
  },
  {
   "cell_type": "markdown",
   "metadata": {},
   "source": [
    "### Задание 1\n",
    "Создайте numpy array с элементами от числа N до 0 (например, для N = 10 это будет array([9, 8, 7, 6, 5, 4, 3, 2, 1, 0]))"
   ]
  },
  {
   "cell_type": "code",
   "execution_count": 10,
   "metadata": {},
   "outputs": [
    {
     "name": "stdout",
     "output_type": "stream",
     "text": [
      "Введите контрольное число для создания массива array: 8\n"
     ]
    },
    {
     "data": {
      "text/plain": [
       "array([0, 1, 2, 3, 4, 5, 6, 7])"
      ]
     },
     "execution_count": 10,
     "metadata": {},
     "output_type": "execute_result"
    }
   ],
   "source": [
    "q = int(input('Введите контрольное число для создания массива: '))\n",
    "np.arange(q)"
   ]
  },
  {
   "cell_type": "markdown",
   "metadata": {},
   "source": [
    "### Задание 2\n",
    "Создайте диагональную матрицу с элементами от N до 0. Посчитайте сумму ее значений на диагонали."
   ]
  },
  {
   "cell_type": "code",
   "execution_count": 22,
   "metadata": {},
   "outputs": [
    {
     "name": "stdout",
     "output_type": "stream",
     "text": [
      "Введите число строк(=столбцов) для создания диагональной матрицы: 8\n",
      "[[1 6 1 1 6 6 1 3]\n",
      " [0 6 1 4 0 3 3 5]\n",
      " [5 6 3 7 2 7 7 5]\n",
      " [7 0 2 7 7 7 3 1]\n",
      " [2 7 5 4 7 0 1 1]\n",
      " [1 3 1 2 0 6 3 2]\n",
      " [1 2 7 2 1 6 6 5]\n",
      " [1 1 4 1 7 6 7 5]]\n"
     ]
    },
    {
     "data": {
      "text/plain": [
       "41"
      ]
     },
     "execution_count": 22,
     "metadata": {},
     "output_type": "execute_result"
    }
   ],
   "source": [
    "q = int(input('Введите число строк(=столбцов) для создания диагональной матрицы: '))\n",
    "a = np.mat(np.random.randint(q, size = (q,q)))\n",
    "print(a)\n",
    "sum(np.diag(a))\n"
   ]
  },
  {
   "cell_type": "markdown",
   "metadata": {},
   "source": [
    "### Задание 3\n",
    "Решите систему уравнений:\n",
    "    4x + 2y + z = 4   \n",
    "    x + 3y = 12   \n",
    "    5y + 4z = -3   "
   ]
  },
  {
   "cell_type": "code",
   "execution_count": 34,
   "metadata": {},
   "outputs": [
    {
     "name": "stdout",
     "output_type": "stream",
     "text": [
      "[ 0.46666667  3.84444444 -5.55555556]\n"
     ]
    }
   ],
   "source": [
    "b = np.array([[4,2,1], [1,3,0], [0,5,4]])\n",
    "c = np.array([4,12,-3])\n",
    "\n",
    "from numpy import linalg\n",
    "print(linalg.solve(b,c))"
   ]
  },
  {
   "cell_type": "markdown",
   "metadata": {},
   "source": [
    "### Задача 4 домашнего задания  \n",
    "Имеется матрица покупок в интернет-магазине. Столбец А - ID пользователя. Остальные столбцы - количество покупок категорий товаров этим пользователем. Матрица в виде numpy array. На сайт заходит очередной посетитель, о покупках которого известно следующее: в переменной next_user_stats. Найдите самого похожего пользователя. Т.е. посчитайте косинусное сходство между этим пользователем и всеми пользователями из массива user_stats"
   ]
  },
  {
   "cell_type": "code",
   "execution_count": 61,
   "metadata": {},
   "outputs": [
    {
     "name": "stdout",
     "output_type": "stream",
     "text": [
      "Самый похожий пользователь - № 8\n"
     ]
    }
   ],
   "source": [
    "users_stats = np.array(\n",
    "    [\n",
    "        [2, 1, 0, 0, 0, 0],\n",
    "        [1, 1, 2, 1, 0, 0],\n",
    "        [2, 0, 1, 0, 0, 0],\n",
    "        [1, 1, 2, 1, 0, 1],\n",
    "        [0, 0, 1, 2, 0, 0],\n",
    "        [0, 0, 0, 0, 0, 5],\n",
    "        [1, 0, 0, 0, 0, 0],\n",
    "        [0, 1, 1, 0, 0, 0],\n",
    "        [0, 0, 0, 1, 1, 3],\n",
    "        [1, 0, 0, 2, 1, 4]\n",
    "    ], \n",
    "    np.int32\n",
    ")\n",
    "next_user_stats = np.array([0, 1, 2, 0, 0, 0])\n",
    "next_user_stats_length = np.linalg.norm(next_user_stats)\n",
    "match_matrix = {}\n",
    "for user, val in enumerate(users_stats, start=1):\n",
    "    user_length = np.linalg.norm(val)\n",
    "    match_matrix[user] = np.dot(val, next_user_stats)/(next_user_stats_length*user_length)\n",
    "#print(match_matrix)\n",
    "print(f'Самый похожий пользователь - № {max(match_matrix, key = match_matrix.get)}')\n"
   ]
  },
  {
   "cell_type": "code",
   "execution_count": 52,
   "metadata": {},
   "outputs": [],
   "source": []
  }
 ],
 "metadata": {
  "kernelspec": {
   "display_name": "Python 3",
   "language": "python",
   "name": "python3"
  },
  "language_info": {
   "codemirror_mode": {
    "name": "ipython",
    "version": 3
   },
   "file_extension": ".py",
   "mimetype": "text/x-python",
   "name": "python",
   "nbconvert_exporter": "python",
   "pygments_lexer": "ipython3",
   "version": "3.8.5"
  }
 },
 "nbformat": 4,
 "nbformat_minor": 4
}
