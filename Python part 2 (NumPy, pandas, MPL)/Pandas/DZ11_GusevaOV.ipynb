{
 "cells": [
  {
   "cell_type": "code",
   "execution_count": 2,
   "metadata": {},
   "outputs": [],
   "source": [
    "import pandas as pd"
   ]
  },
  {
   "cell_type": "markdown",
   "metadata": {},
   "source": [
    "### Задание 1\n",
    "Скачайте с сайта grouplens.org...movielens/ датасет любого размера. Определите какому фильму было выставлено больше всего оценок 5.0."
   ]
  },
  {
   "cell_type": "markdown",
   "metadata": {},
   "source": [
    "Было скачано по ссылке:\n",
    "Permalink: https://grouplens.org/datasets/movielens/latest/  \n",
    "папка: ml-latest-small.zip, файл ratings.csv"
   ]
  },
  {
   "cell_type": "code",
   "execution_count": 72,
   "metadata": {
    "scrolled": false
   },
   "outputs": [
    {
     "data": {
      "text/html": [
       "<div>\n",
       "<style scoped>\n",
       "    .dataframe tbody tr th:only-of-type {\n",
       "        vertical-align: middle;\n",
       "    }\n",
       "\n",
       "    .dataframe tbody tr th {\n",
       "        vertical-align: top;\n",
       "    }\n",
       "\n",
       "    .dataframe thead th {\n",
       "        text-align: right;\n",
       "    }\n",
       "</style>\n",
       "<table border=\"1\" class=\"dataframe\">\n",
       "  <thead>\n",
       "    <tr style=\"text-align: right;\">\n",
       "      <th></th>\n",
       "      <th>userId</th>\n",
       "      <th>rating</th>\n",
       "      <th>timestamp</th>\n",
       "    </tr>\n",
       "    <tr>\n",
       "      <th>movieId</th>\n",
       "      <th></th>\n",
       "      <th></th>\n",
       "      <th></th>\n",
       "    </tr>\n",
       "  </thead>\n",
       "  <tbody>\n",
       "    <tr>\n",
       "      <th>318</th>\n",
       "      <td>153</td>\n",
       "      <td>153</td>\n",
       "      <td>153</td>\n",
       "    </tr>\n",
       "  </tbody>\n",
       "</table>\n",
       "</div>"
      ],
      "text/plain": [
       "         userId  rating  timestamp\n",
       "movieId                           \n",
       "318         153     153        153"
      ]
     },
     "execution_count": 72,
     "metadata": {},
     "output_type": "execute_result"
    }
   ],
   "source": [
    "data = pd.read_csv(r\"C:\\Users\\user\\Desktop\\PYDP-19-DSU-4\\PYDP19_DSU4_homeworks\\Python part 2 (NumPy, pandas, MPL)\\Pandas\\Movies_set\\ratings.csv\")\n",
    "data.query('rating >= 5').groupby('movieId').count().sort_values('rating', ascending = False).head(1)"
   ]
  },
  {
   "cell_type": "markdown",
   "metadata": {},
   "source": [
    "### Задание 2\n",
    "По данным файла power.csv посчитайте суммарное потребление стран Прибалтики (Латвия, Литва и Эстония) категорий 4, 12 и 21 за период с 2005 по 2010 года. Не учитывайте в расчетах отрицательные значения quantity.\n"
   ]
  },
  {
   "cell_type": "code",
   "execution_count": 109,
   "metadata": {},
   "outputs": [
    {
     "name": "stdout",
     "output_type": "stream",
     "text": [
      "           quantity\n",
      "country            \n",
      "Estonia     63440.0\n",
      "Latvia      54844.0\n",
      "Lithuania  122296.0\n",
      "Total Sum: 240580.0\n"
     ]
    }
   ],
   "source": [
    "data1 = pd.read_csv(r\"C:\\Users\\user\\Desktop\\PYDP-19-DSU-4\\NumPy, pandas, MPL\\10. Pandas\\power.csv\")\n",
    "data2 = (data1[\n",
    "            ((data1['country'] == 'Latvia') | (data1['country'] == 'Lithuania') | (data1['country'] == 'Estonia')) &\n",
    "            ((data1['category'] == 4) | (data1['category'] == 12) | (data1['category'] == 21)) &\n",
    "            ((data1['year'] <= 2010) & (data1['year'] >= 2005)) &\n",
    "            (data1['quantity'] >= 0)])\n",
    "print(data2.groupby(by = ['country']).sum()[['quantity']])\n",
    "print(f'Total Sum: {data2.quantity.sum()}')\n"
   ]
  },
  {
   "cell_type": "markdown",
   "metadata": {},
   "source": [
    "### Задание 3\n",
    "Выберите страницу любого сайта с табличными данными. Импортируйте таблицы в pandas dataframe.\n",
    "Примеры страниц (необязательно брать именно эти):\n",
    "https://fortrader.org/quotes\n",
    "www.finanz.ru...om-vremeni"
   ]
  },
  {
   "cell_type": "code",
   "execution_count": 108,
   "metadata": {},
   "outputs": [
    {
     "data": {
      "text/html": [
       "<div>\n",
       "<style scoped>\n",
       "    .dataframe tbody tr th:only-of-type {\n",
       "        vertical-align: middle;\n",
       "    }\n",
       "\n",
       "    .dataframe tbody tr th {\n",
       "        vertical-align: top;\n",
       "    }\n",
       "\n",
       "    .dataframe thead th {\n",
       "        text-align: right;\n",
       "    }\n",
       "</style>\n",
       "<table border=\"1\" class=\"dataframe\">\n",
       "  <thead>\n",
       "    <tr style=\"text-align: right;\">\n",
       "      <th></th>\n",
       "      <th>Unnamed: 0</th>\n",
       "      <th>Unnamed: 1</th>\n",
       "      <th>Unnamed: 2</th>\n",
       "      <th>Unnamed: 3</th>\n",
       "      <th>Unnamed: 4</th>\n",
       "      <th>Unnamed: 5</th>\n",
       "      <th>Unnamed: 6</th>\n",
       "      <th>Unnamed: 7</th>\n",
       "      <th>Unnamed: 8</th>\n",
       "    </tr>\n",
       "  </thead>\n",
       "  <tbody>\n",
       "    <tr>\n",
       "      <th>0</th>\n",
       "      <td>EURUSD  Евро / Доллар США</td>\n",
       "      <td>1.19</td>\n",
       "      <td>0.27%</td>\n",
       "      <td>0.00</td>\n",
       "      <td>1.19</td>\n",
       "      <td>1.19</td>\n",
       "      <td>1.19</td>\n",
       "      <td>1.18</td>\n",
       "      <td>Продавать</td>\n",
       "    </tr>\n",
       "    <tr>\n",
       "      <th>1</th>\n",
       "      <td>USDJPY  Доллар США / Японская иена</td>\n",
       "      <td>110.14</td>\n",
       "      <td>-0.01%</td>\n",
       "      <td>-0.01</td>\n",
       "      <td>110.14</td>\n",
       "      <td>110.15</td>\n",
       "      <td>110.32</td>\n",
       "      <td>109.72</td>\n",
       "      <td>Покупать</td>\n",
       "    </tr>\n",
       "    <tr>\n",
       "      <th>2</th>\n",
       "      <td>GBPUSD  Британский фунт / Доллар США</td>\n",
       "      <td>1.39</td>\n",
       "      <td>0.51%</td>\n",
       "      <td>0.01</td>\n",
       "      <td>1.39</td>\n",
       "      <td>1.39</td>\n",
       "      <td>1.39</td>\n",
       "      <td>1.38</td>\n",
       "      <td>Продавать</td>\n",
       "    </tr>\n",
       "    <tr>\n",
       "      <th>3</th>\n",
       "      <td>AUDUSD  Австралийский доллар / Доллар США</td>\n",
       "      <td>0.75</td>\n",
       "      <td>0.41%</td>\n",
       "      <td>0.00</td>\n",
       "      <td>0.75</td>\n",
       "      <td>0.75</td>\n",
       "      <td>0.75</td>\n",
       "      <td>0.75</td>\n",
       "      <td>Продавать</td>\n",
       "    </tr>\n",
       "    <tr>\n",
       "      <th>4</th>\n",
       "      <td>USDCAD  Доллар США / Канадский доллар</td>\n",
       "      <td>1.24</td>\n",
       "      <td>-0.50%</td>\n",
       "      <td>-0.01</td>\n",
       "      <td>1.24</td>\n",
       "      <td>1.24</td>\n",
       "      <td>1.25</td>\n",
       "      <td>1.24</td>\n",
       "      <td>Продавать</td>\n",
       "    </tr>\n",
       "    <tr>\n",
       "      <th>...</th>\n",
       "      <td>...</td>\n",
       "      <td>...</td>\n",
       "      <td>...</td>\n",
       "      <td>...</td>\n",
       "      <td>...</td>\n",
       "      <td>...</td>\n",
       "      <td>...</td>\n",
       "      <td>...</td>\n",
       "      <td>...</td>\n",
       "    </tr>\n",
       "    <tr>\n",
       "      <th>78</th>\n",
       "      <td>BRLMXN  BRAZILIAN REAL / MEXICAN PESO</td>\n",
       "      <td>4.07</td>\n",
       "      <td>-0.18%</td>\n",
       "      <td>-0.01</td>\n",
       "      <td>4.07</td>\n",
       "      <td>4.08</td>\n",
       "      <td>4.09</td>\n",
       "      <td>4.04</td>\n",
       "      <td>Покупать</td>\n",
       "    </tr>\n",
       "    <tr>\n",
       "      <th>79</th>\n",
       "      <td>CLFCLP  CHILEAN UNIDAD DE FOMENTO / CHILEAN PESO</td>\n",
       "      <td>29683.15</td>\n",
       "      <td>0.03%</td>\n",
       "      <td>8.90</td>\n",
       "      <td>29683.15</td>\n",
       "      <td>29686.15</td>\n",
       "      <td>29683.15</td>\n",
       "      <td>29680.18</td>\n",
       "      <td>Активно покупать</td>\n",
       "    </tr>\n",
       "    <tr>\n",
       "      <th>80</th>\n",
       "      <td>CLPBRL  CHILEAN PESO / BRAZILIAN REAL</td>\n",
       "      <td>0.01</td>\n",
       "      <td>-0.34%</td>\n",
       "      <td>-0.00</td>\n",
       "      <td>0.01</td>\n",
       "      <td>0.01</td>\n",
       "      <td>0.01</td>\n",
       "      <td>0.01</td>\n",
       "      <td>Продавать</td>\n",
       "    </tr>\n",
       "    <tr>\n",
       "      <th>81</th>\n",
       "      <td>COPBRL  COLOMBIAN PESO / BRAZILIAN REAL</td>\n",
       "      <td>0.00</td>\n",
       "      <td>-0.23%</td>\n",
       "      <td>-0.00</td>\n",
       "      <td>0.00</td>\n",
       "      <td>0.00</td>\n",
       "      <td>0.00</td>\n",
       "      <td>0.00</td>\n",
       "      <td>Продавать</td>\n",
       "    </tr>\n",
       "    <tr>\n",
       "      <th>82</th>\n",
       "      <td>MXNBRL  MEXICAN PESO / BRAZILIAN REAL</td>\n",
       "      <td>0.25</td>\n",
       "      <td>0.18%</td>\n",
       "      <td>0.00</td>\n",
       "      <td>0.25</td>\n",
       "      <td>0.25</td>\n",
       "      <td>0.25</td>\n",
       "      <td>0.24</td>\n",
       "      <td>Продавать</td>\n",
       "    </tr>\n",
       "  </tbody>\n",
       "</table>\n",
       "<p>83 rows × 9 columns</p>\n",
       "</div>"
      ],
      "text/plain": [
       "                                          Unnamed: 0  Unnamed: 1 Unnamed: 2  \\\n",
       "0                          EURUSD  Евро / Доллар США        1.19      0.27%   \n",
       "1                 USDJPY  Доллар США / Японская иена      110.14     -0.01%   \n",
       "2               GBPUSD  Британский фунт / Доллар США        1.39      0.51%   \n",
       "3          AUDUSD  Австралийский доллар / Доллар США        0.75      0.41%   \n",
       "4              USDCAD  Доллар США / Канадский доллар        1.24     -0.50%   \n",
       "..                                               ...         ...        ...   \n",
       "78             BRLMXN  BRAZILIAN REAL / MEXICAN PESO        4.07     -0.18%   \n",
       "79  CLFCLP  CHILEAN UNIDAD DE FOMENTO / CHILEAN PESO    29683.15      0.03%   \n",
       "80             CLPBRL  CHILEAN PESO / BRAZILIAN REAL        0.01     -0.34%   \n",
       "81           COPBRL  COLOMBIAN PESO / BRAZILIAN REAL        0.00     -0.23%   \n",
       "82             MXNBRL  MEXICAN PESO / BRAZILIAN REAL        0.25      0.18%   \n",
       "\n",
       "    Unnamed: 3  Unnamed: 4  Unnamed: 5  Unnamed: 6  Unnamed: 7  \\\n",
       "0         0.00        1.19        1.19        1.19        1.18   \n",
       "1        -0.01      110.14      110.15      110.32      109.72   \n",
       "2         0.01        1.39        1.39        1.39        1.38   \n",
       "3         0.00        0.75        0.75        0.75        0.75   \n",
       "4        -0.01        1.24        1.24        1.25        1.24   \n",
       "..         ...         ...         ...         ...         ...   \n",
       "78       -0.01        4.07        4.08        4.09        4.04   \n",
       "79        8.90    29683.15    29686.15    29683.15    29680.18   \n",
       "80       -0.00        0.01        0.01        0.01        0.01   \n",
       "81       -0.00        0.00        0.00        0.00        0.00   \n",
       "82        0.00        0.25        0.25        0.25        0.24   \n",
       "\n",
       "          Unnamed: 8  \n",
       "0          Продавать  \n",
       "1           Покупать  \n",
       "2          Продавать  \n",
       "3          Продавать  \n",
       "4          Продавать  \n",
       "..               ...  \n",
       "78          Покупать  \n",
       "79  Активно покупать  \n",
       "80         Продавать  \n",
       "81         Продавать  \n",
       "82         Продавать  \n",
       "\n",
       "[83 rows x 9 columns]"
      ]
     },
     "execution_count": 108,
     "metadata": {},
     "output_type": "execute_result"
    }
   ],
   "source": [
    "page_url = 'https://ru.tradingview.com/markets/currencies/rates-americas/'\n",
    "data3 = pd.read_html(page_url)\n",
    "data3[0]"
   ]
  },
  {
   "cell_type": "code",
   "execution_count": 107,
   "metadata": {},
   "outputs": [
    {
     "data": {
      "text/plain": [
       "list"
      ]
     },
     "execution_count": 107,
     "metadata": {},
     "output_type": "execute_result"
    }
   ],
   "source": [
    "type(data3)"
   ]
  },
  {
   "cell_type": "code",
   "execution_count": null,
   "metadata": {},
   "outputs": [],
   "source": []
  },
  {
   "cell_type": "code",
   "execution_count": null,
   "metadata": {},
   "outputs": [],
   "source": []
  }
 ],
 "metadata": {
  "kernelspec": {
   "display_name": "Python 3",
   "language": "python",
   "name": "python3"
  },
  "language_info": {
   "codemirror_mode": {
    "name": "ipython",
    "version": 3
   },
   "file_extension": ".py",
   "mimetype": "text/x-python",
   "name": "python",
   "nbconvert_exporter": "python",
   "pygments_lexer": "ipython3",
   "version": "3.8.5"
  }
 },
 "nbformat": 4,
 "nbformat_minor": 4
}
