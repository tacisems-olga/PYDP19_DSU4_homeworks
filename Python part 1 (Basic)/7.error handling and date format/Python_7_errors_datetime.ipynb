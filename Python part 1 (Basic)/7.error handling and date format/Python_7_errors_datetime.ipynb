{
 "cells": [
  {
   "cell_type": "markdown",
   "metadata": {},
   "source": [
    "# Задача про интервалы\n",
    "Имеется список отсортированных по возрастанию целых чисел data. А также целое число n, которое лежит между минимальным и максимальным значениями из списка data. Вам необходимо определить минимальное ближайшее число к n из списка data.\n",
    "\n",
    "Пример:\n",
    "```python\n",
    "data = [1, 7, 17, 23, 27, 35, 65]\n",
    "n = 20\n",
    "```\n",
    "\n",
    "Ответ: 17"
   ]
  },
  {
   "cell_type": "code",
   "execution_count": 1,
   "metadata": {},
   "outputs": [],
   "source": [
    "data = [1, 7, 17, 23, 27, 35, 65]"
   ]
  },
  {
   "cell_type": "code",
   "execution_count": 2,
   "metadata": {},
   "outputs": [],
   "source": [
    "n = 20"
   ]
  },
  {
   "cell_type": "code",
   "execution_count": null,
   "metadata": {},
   "outputs": [],
   "source": [
    "17 <= b < 23"
   ]
  },
  {
   "cell_type": "code",
   "execution_count": 7,
   "metadata": {},
   "outputs": [
    {
     "data": {
      "text/plain": [
       "[1, 7, 17, 23, 27, 35]"
      ]
     },
     "execution_count": 7,
     "metadata": {},
     "output_type": "execute_result"
    }
   ],
   "source": [
    "data[0:-1]"
   ]
  },
  {
   "cell_type": "code",
   "execution_count": 10,
   "metadata": {},
   "outputs": [
    {
     "name": "stdout",
     "output_type": "stream",
     "text": [
      "Нашлось 17\n"
     ]
    }
   ],
   "source": [
    "for i, num in enumerate(data[:-1]):\n",
    "    # print(i, num, data[i+1])\n",
    "    \n",
    "    if num <= n < data[i+1]:\n",
    "        print('Нашлось', num)\n",
    "        break"
   ]
  },
  {
   "cell_type": "markdown",
   "metadata": {},
   "source": [
    "# Линейный поиск\n",
    "- 6 --> 1ms\n",
    "- 6 * 1000 --> 1s"
   ]
  },
  {
   "cell_type": "markdown",
   "metadata": {},
   "source": [
    "# O(1)"
   ]
  },
  {
   "cell_type": "code",
   "execution_count": null,
   "metadata": {},
   "outputs": [],
   "source": [
    "if user_id in purchases"
   ]
  },
  {
   "cell_type": "code",
   "execution_count": 11,
   "metadata": {
    "scrolled": true
   },
   "outputs": [
    {
     "data": {
      "text/plain": [
       "[0, 1, 2, 3, 4]"
      ]
     },
     "execution_count": 11,
     "metadata": {},
     "output_type": "execute_result"
    }
   ],
   "source": [
    "data = list(range(1000))\n",
    "data[:5]"
   ]
  },
  {
   "cell_type": "code",
   "execution_count": 16,
   "metadata": {},
   "outputs": [
    {
     "name": "stdout",
     "output_type": "stream",
     "text": [
      "CPU times: user 5.87 s, sys: 19.7 ms, total: 5.89 s\n",
      "Wall time: 5.93 s\n"
     ]
    }
   ],
   "source": [
    "%%time\n",
    "\n",
    "for i in range(10**6):\n",
    "    500 in data"
   ]
  },
  {
   "cell_type": "code",
   "execution_count": 22,
   "metadata": {},
   "outputs": [],
   "source": [
    "data = set(range(10000000))"
   ]
  },
  {
   "cell_type": "code",
   "execution_count": 23,
   "metadata": {
    "scrolled": true
   },
   "outputs": [
    {
     "name": "stdout",
     "output_type": "stream",
     "text": [
      "CPU times: user 85 ms, sys: 1.73 ms, total: 86.7 ms\n",
      "Wall time: 85.7 ms\n"
     ]
    }
   ],
   "source": [
    "%%time\n",
    "\n",
    "for i in range(10**6):\n",
    "    500000 in data"
   ]
  },
  {
   "cell_type": "markdown",
   "metadata": {},
   "source": [
    "# O(N)"
   ]
  },
  {
   "cell_type": "markdown",
   "metadata": {},
   "source": [
    "# Бинарный поиск\n",
    "- А\n",
    "- Б\n",
    "- В\n",
    "- <-- Дегтярев\n",
    "...\n",
    "- Иванов\n",
    "...\n",
    "- Ю\n",
    "- Я"
   ]
  },
  {
   "cell_type": "markdown",
   "metadata": {},
   "source": [
    "# O(log_2(N))"
   ]
  },
  {
   "cell_type": "code",
   "execution_count": null,
   "metadata": {},
   "outputs": [],
   "source": []
  },
  {
   "cell_type": "code",
   "execution_count": null,
   "metadata": {},
   "outputs": [],
   "source": []
  },
  {
   "cell_type": "code",
   "execution_count": null,
   "metadata": {},
   "outputs": [],
   "source": []
  },
  {
   "cell_type": "markdown",
   "metadata": {},
   "source": [
    "# Обработка ошибок\n",
    "1. Текст ошибки указывается в последней строчке\n",
    "2. Все что перед ней - место, где ошибка произошла\n",
    "3. Есть встроенные типы ошибок, но можно создавать и свои"
   ]
  },
  {
   "cell_type": "markdown",
   "metadata": {},
   "source": [
    "Некоторые типы ошибок из документации (точнее [перевода](https://pythonworld.ru/tipy-dannyx-v-python/isklyucheniya-v-python-konstrukciya-try-except-dlya-obrabotki-isklyuchenij.html)):\n",
    "- ZeroDivisionError - деление на ноль\n",
    "- ImportError - не удалось импортирование модуля или его атрибута (надо установить эту библиотеку)\n",
    "- IndexError - индекс не входит в диапазон элементов.\n",
    "- KeyError - несуществующий ключ (в словаре, множестве или другом объекте)\n",
    "- MemoryError - недостаточно памяти\n",
    "- SyntaxError - синтаксическая ошибка (вы опечатались или не закрыли скобку)\n",
    "- TypeError - операция применена к объекту несоответствующего типа\n",
    "- ValueError - функция получает аргумент правильного типа, но некорректного значения\n",
    "- Warning - предупреждение (текст на красном фоне в юпитере это предупреждение, а не ошибка)"
   ]
  },
  {
   "cell_type": "code",
   "execution_count": null,
   "metadata": {},
   "outputs": [],
   "source": [
    "# эту строку можно перевести в число\n",
    "some_num = '123'"
   ]
  },
  {
   "cell_type": "code",
   "execution_count": null,
   "metadata": {},
   "outputs": [],
   "source": [
    "float(some_num)"
   ]
  },
  {
   "cell_type": "code",
   "execution_count": null,
   "metadata": {},
   "outputs": [],
   "source": [
    "# а эту уже нет (по крайней мере в десятичном счислении)\n",
    "ups = '123a'"
   ]
  },
  {
   "cell_type": "code",
   "execution_count": null,
   "metadata": {
    "scrolled": true
   },
   "outputs": [],
   "source": [
    "# ValueError - тип ошибки, далее пояснение что произошло\n",
    "# ----> 1 float(ups) - в каком месте кода произошла ошибка\n",
    "float(ups)"
   ]
  },
  {
   "cell_type": "markdown",
   "metadata": {},
   "source": [
    "Пример ошибки внутри функции"
   ]
  },
  {
   "cell_type": "code",
   "execution_count": 24,
   "metadata": {},
   "outputs": [],
   "source": [
    "def square_sum(*args):\n",
    "    total_sum = 0\n",
    "    for arg in args:\n",
    "        total_sum += arg**2\n",
    "    \n",
    "    return total_sum"
   ]
  },
  {
   "cell_type": "code",
   "execution_count": 25,
   "metadata": {},
   "outputs": [
    {
     "data": {
      "text/plain": [
       "14"
      ]
     },
     "execution_count": 25,
     "metadata": {},
     "output_type": "execute_result"
    }
   ],
   "source": [
    "square_sum(1, 2, 3)"
   ]
  },
  {
   "cell_type": "code",
   "execution_count": 26,
   "metadata": {
    "scrolled": false
   },
   "outputs": [
    {
     "ename": "TypeError",
     "evalue": "unsupported operand type(s) for ** or pow(): 'str' and 'int'",
     "output_type": "error",
     "traceback": [
      "\u001b[0;31m---------------------------------------------------------------------------\u001b[0m",
      "\u001b[0;31mTypeError\u001b[0m                                 Traceback (most recent call last)",
      "\u001b[0;32m<ipython-input-26-7189647907b6>\u001b[0m in \u001b[0;36m<module>\u001b[0;34m\u001b[0m\n\u001b[1;32m      3\u001b[0m \u001b[0;31m# ----> 4         total_sum += arg**2 - в какой именно строке произошла ошибка\u001b[0m\u001b[0;34m\u001b[0m\u001b[0;34m\u001b[0m\u001b[0;34m\u001b[0m\u001b[0m\n\u001b[1;32m      4\u001b[0m \u001b[0;34m\u001b[0m\u001b[0m\n\u001b[0;32m----> 5\u001b[0;31m \u001b[0msquare_sum\u001b[0m\u001b[0;34m(\u001b[0m\u001b[0;36m1\u001b[0m\u001b[0;34m,\u001b[0m \u001b[0;36m2\u001b[0m\u001b[0;34m,\u001b[0m \u001b[0;34m'3'\u001b[0m\u001b[0;34m)\u001b[0m\u001b[0;34m\u001b[0m\u001b[0;34m\u001b[0m\u001b[0m\n\u001b[0m",
      "\u001b[0;32m<ipython-input-24-45a18875b039>\u001b[0m in \u001b[0;36msquare_sum\u001b[0;34m(*args)\u001b[0m\n\u001b[1;32m      2\u001b[0m     \u001b[0mtotal_sum\u001b[0m \u001b[0;34m=\u001b[0m \u001b[0;36m0\u001b[0m\u001b[0;34m\u001b[0m\u001b[0;34m\u001b[0m\u001b[0m\n\u001b[1;32m      3\u001b[0m     \u001b[0;32mfor\u001b[0m \u001b[0marg\u001b[0m \u001b[0;32min\u001b[0m \u001b[0margs\u001b[0m\u001b[0;34m:\u001b[0m\u001b[0;34m\u001b[0m\u001b[0;34m\u001b[0m\u001b[0m\n\u001b[0;32m----> 4\u001b[0;31m         \u001b[0mtotal_sum\u001b[0m \u001b[0;34m+=\u001b[0m \u001b[0marg\u001b[0m\u001b[0;34m**\u001b[0m\u001b[0;36m2\u001b[0m\u001b[0;34m\u001b[0m\u001b[0;34m\u001b[0m\u001b[0m\n\u001b[0m\u001b[1;32m      5\u001b[0m \u001b[0;34m\u001b[0m\u001b[0m\n\u001b[1;32m      6\u001b[0m     \u001b[0;32mreturn\u001b[0m \u001b[0mtotal_sum\u001b[0m\u001b[0;34m\u001b[0m\u001b[0;34m\u001b[0m\u001b[0m\n",
      "\u001b[0;31mTypeError\u001b[0m: unsupported operand type(s) for ** or pow(): 'str' and 'int'"
     ]
    }
   ],
   "source": [
    "# пытаемся применить к операцию возведения в квадрат к строке\n",
    "# ----> 1 square_sum(1, 2, '3') - в какой функции произошла ошибка\n",
    "# ----> 4         total_sum += arg**2 - в какой именно строке произошла ошибка\n",
    "\n",
    "square_sum(1, 2, '3')"
   ]
  },
  {
   "cell_type": "code",
   "execution_count": null,
   "metadata": {},
   "outputs": [],
   "source": [
    "print = 1"
   ]
  },
  {
   "cell_type": "code",
   "execution_count": 27,
   "metadata": {},
   "outputs": [
    {
     "ename": "TypeError",
     "evalue": "unsupported operand type(s) for ** or pow(): 'str' and 'int'",
     "output_type": "error",
     "traceback": [
      "\u001b[0;31m---------------------------------------------------------------------------\u001b[0m",
      "\u001b[0;31mTypeError\u001b[0m                                 Traceback (most recent call last)",
      "\u001b[0;32m<ipython-input-27-677216e8e454>\u001b[0m in \u001b[0;36m<module>\u001b[0;34m\u001b[0m\n\u001b[1;32m      6\u001b[0m     \u001b[0;32mreturn\u001b[0m \u001b[0mtotal_sum\u001b[0m\u001b[0;34m\u001b[0m\u001b[0;34m\u001b[0m\u001b[0m\n\u001b[1;32m      7\u001b[0m \u001b[0;34m\u001b[0m\u001b[0m\n\u001b[0;32m----> 8\u001b[0;31m \u001b[0msquare_sum\u001b[0m\u001b[0;34m(\u001b[0m\u001b[0;36m1\u001b[0m\u001b[0;34m,\u001b[0m \u001b[0;36m2\u001b[0m\u001b[0;34m,\u001b[0m \u001b[0;34m'3'\u001b[0m\u001b[0;34m)\u001b[0m\u001b[0;34m\u001b[0m\u001b[0;34m\u001b[0m\u001b[0m\n\u001b[0m",
      "\u001b[0;32m<ipython-input-27-677216e8e454>\u001b[0m in \u001b[0;36msquare_sum\u001b[0;34m(*args)\u001b[0m\n\u001b[1;32m      2\u001b[0m     \u001b[0mtotal_sum\u001b[0m \u001b[0;34m=\u001b[0m \u001b[0;36m0\u001b[0m\u001b[0;34m\u001b[0m\u001b[0;34m\u001b[0m\u001b[0m\n\u001b[1;32m      3\u001b[0m     \u001b[0;32mfor\u001b[0m \u001b[0marg\u001b[0m \u001b[0;32min\u001b[0m \u001b[0margs\u001b[0m\u001b[0;34m:\u001b[0m\u001b[0;34m\u001b[0m\u001b[0;34m\u001b[0m\u001b[0m\n\u001b[0;32m----> 4\u001b[0;31m         \u001b[0mtotal_sum\u001b[0m \u001b[0;34m+=\u001b[0m \u001b[0marg\u001b[0m\u001b[0;34m**\u001b[0m\u001b[0;36m2\u001b[0m\u001b[0;34m\u001b[0m\u001b[0;34m\u001b[0m\u001b[0m\n\u001b[0m\u001b[1;32m      5\u001b[0m \u001b[0;34m\u001b[0m\u001b[0m\n\u001b[1;32m      6\u001b[0m     \u001b[0;32mreturn\u001b[0m \u001b[0mtotal_sum\u001b[0m\u001b[0;34m\u001b[0m\u001b[0;34m\u001b[0m\u001b[0m\n",
      "\u001b[0;31mTypeError\u001b[0m: unsupported operand type(s) for ** or pow(): 'str' and 'int'"
     ]
    }
   ],
   "source": [
    "def square_sum(*args):\n",
    "    total_sum = 0\n",
    "    for arg in args:\n",
    "        total_sum += arg**2\n",
    "    \n",
    "    return total_sum\n",
    "\n",
    "square_sum(1, 2, '3')"
   ]
  },
  {
   "cell_type": "markdown",
   "metadata": {},
   "source": [
    "## Как сделать, чтобы цикл с расчетом не падал каждый раз"
   ]
  },
  {
   "cell_type": "code",
   "execution_count": null,
   "metadata": {},
   "outputs": [],
   "source": [
    "try:\n",
    "    # ваш код, где может произойти ошибка\n",
    "    float('123a')\n",
    "\n",
    "except:\n",
    "    # код, который выполняется в случае ошибки\n",
    "    "
   ]
  },
  {
   "cell_type": "code",
   "execution_count": null,
   "metadata": {},
   "outputs": [],
   "source": [
    "data = ['90', '60', '90', '240tot']\n",
    "total_sum = 0\n",
    "\n",
    "for num in data:\n",
    "    try:\n",
    "        total_sum += float(num)\n",
    "\n",
    "    except:\n",
    "        print('Ошибка в данных: {}'.format(num))\n",
    "    \n",
    "print('Итого', total_sum)"
   ]
  },
  {
   "cell_type": "markdown",
   "metadata": {},
   "source": [
    "Как сохранить всю информацию об ошибке?"
   ]
  },
  {
   "cell_type": "code",
   "execution_count": null,
   "metadata": {
    "scrolled": true
   },
   "outputs": [],
   "source": [
    "# полная версия traceback\n",
    "import traceback\n",
    "\n",
    "try:\n",
    "    float('123fff')\n",
    "\n",
    "except Exception:\n",
    "    print(traceback.print_exc())\n",
    "    \n",
    "print('Проехали')"
   ]
  },
  {
   "cell_type": "markdown",
   "metadata": {},
   "source": [
    "### Блок finally"
   ]
  },
  {
   "cell_type": "code",
   "execution_count": null,
   "metadata": {},
   "outputs": [],
   "source": [
    "try:\n",
    "    print(stats[\"wednesday\"])\n",
    "    \n",
    "except IndexError:\n",
    "    print(\"Ошибка индекса\")\n",
    "    \n",
    "except KeyError:\n",
    "    print(\"Ошибка ключа\")\n",
    "    print(1/0)\n",
    "    \n",
    "finally:\n",
    "    print('Эта строчка будет выполнена всегда')"
   ]
  },
  {
   "cell_type": "markdown",
   "metadata": {},
   "source": [
    "### Более жизненный пример"
   ]
  },
  {
   "cell_type": "code",
   "execution_count": 56,
   "metadata": {},
   "outputs": [
    {
     "ename": "Exception",
     "evalue": "Просто так",
     "output_type": "error",
     "traceback": [
      "\u001b[0;31m---------------------------------------------------------------------------\u001b[0m",
      "\u001b[0;31mException\u001b[0m                                 Traceback (most recent call last)",
      "\u001b[0;32m<ipython-input-56-5ece618e38c4>\u001b[0m in \u001b[0;36m<module>\u001b[0;34m\u001b[0m\n\u001b[0;32m----> 1\u001b[0;31m \u001b[0;32mraise\u001b[0m \u001b[0mException\u001b[0m\u001b[0;34m(\u001b[0m\u001b[0;34m'Просто так'\u001b[0m\u001b[0;34m)\u001b[0m\u001b[0;34m\u001b[0m\u001b[0;34m\u001b[0m\u001b[0m\n\u001b[0m",
      "\u001b[0;31mException\u001b[0m: Просто так"
     ]
    }
   ],
   "source": [
    "raise Exception('Просто так')"
   ]
  },
  {
   "cell_type": "code",
   "execution_count": 59,
   "metadata": {},
   "outputs": [
    {
     "data": {
      "text/plain": [
       "15.116666"
      ]
     },
     "execution_count": 59,
     "metadata": {},
     "output_type": "execute_result"
    }
   ],
   "source": [
    "(int(11.45 * 10**6) + int(11/3*10**6)) / 1000000"
   ]
  },
  {
   "cell_type": "code",
   "execution_count": 28,
   "metadata": {
    "scrolled": false
   },
   "outputs": [
    {
     "name": "stdout",
     "output_type": "stream",
     "text": [
      "05.10.16 23:18\t1010\t20,2\n",
      "09.10.2016T 21:40:00\t1036\t15,6\n",
      "05.10.16 3:23\t1041\n",
      "05.10.16 23:19\t1041\n",
      "01.10.16 4:57\t1042\t14,8\n",
      "01.10.16 23:29\t1042\t14,4\n",
      "03.10.16 20:20\t1042\t14\n",
      "04.10.16 0:35\t1042\t20\n",
      "04.10.16 13:46\t1042\t16,2\n",
      "04.10.16 17:34\t1042\t11\n",
      "05.10.16 15:15\t1042\t10800000\n",
      "06.10.16 20:45\t1042\t22,6\n",
      "07.10.16 2:54\t1042\t22,4\n",
      "07.10.16 5:02\t1042\t24,4\n",
      "07.10.16 6:35\t1042\t16,6\n",
      "08.10.2016T 16:46:00\t1042\t8,6\n",
      "01.10.16 13:39\t1047\n",
      "05.10.16 21:41\t1047\n",
      "07.10.16 9:59\t1052\t24\n",
      "08.10.2016T 19:36:00\t1052\t18,8\n",
      "04.10.16 11:12\t1057\n",
      "09.10.2016T 2:47:00\t1057\n",
      "09.10.2016T 16:27:00\t1062\t11,2\n",
      "05.10.16 4:38\t1067\t19\n",
      "04.10.16 9:56\t1078\t23,4\n",
      "04.10.16 14:36\t1085\t17\n",
      "05.10.16 16:41\t1096\t20,8\n",
      "01.10.16 11:55\t1098\t15,6\n",
      "01.10.16 14:16\t1100\n",
      "02.10.16 1:39\t1100\n",
      "02.10.16 2:49\t1100\n",
      "02.10.16 13:05\t1100\n",
      "03.10.16 4:04\t1100\n",
      "03.10.16 6:58\t1100\n",
      "03.10.16 15:01\t1100\n",
      "04.10.16 23:43\t1100\n",
      "05.10.16 5:46\t1100\n",
      "06.10.16 0:31\t1100\n",
      "06.10.16 9:25\t1100\n",
      "08.10.2016T 15:15:00\t1100\n",
      "07.10.16 9:06\t1105\t16,2\n",
      "01.10.16 4:30\t1108\t17,8\n",
      "01.10.16 18:16\t1108\t18,8\n",
      "02.10.16 2:58\t1108\t20000000\n",
      "02.10.16 6:01\t1108\t21\n",
      "02.10.16 20:03\t1108\t16,6\n",
      "04.10.16 2:56\t1108\t20\n",
      "04.10.16 6:57\t1108\t19,8\n",
      "06.10.16 6:46\t1108\t16,8\n",
      "09.10.2016T 8:33:00\t1108\t24000000\n",
      "08.10.2016T 8:02:00\t1111\t12\n",
      "05.10.16 5:25\t1112\t10,2\n",
      "09.10.2016T 0:03:00\t1112\t24\n",
      "06.10.16 10:09\t1113\t15,8\n",
      "09.10.2016T 12:09:00\t1113\t22\n",
      "05.10.16 18:00\t1114\t17,4\n",
      "06.10.16 17:58\t1114\t14,8\n",
      "05.10.16 23:19\t1116\t20\n",
      "01.10.16 23:13\t1118\t11,6\n",
      "09.10.2016T 21:14:00\t1118\t20\n",
      "05.10.16 16:30\t1123\t16\n",
      "06.10.16 5:27\t1123\t11,2\n",
      "01.10.16 17:46\t1128\t12,2\n",
      "04.10.16 5:00\t1134\n",
      "06.10.16 12:01\t1134\n",
      "01.10.16 15:58\t1135\n",
      "02.10.16 3:19\t1135\n",
      "02.10.16 19:24\t1135\n",
      "04.10.16 10:40\t1135\n",
      "06.10.16 6:06\t1135\n",
      "06.10.16 16:08\t1135\n",
      "08.10.2016T 0:31:00\t1135\n",
      "08.10.2016T 10:16:00\t1135\n",
      "08.10.2016T 23:10:00\t1135\n",
      "01.10.16 22:28\t1136\t21,6\n",
      "03.10.16 23:03\t1136\t17,4\n",
      "03.10.16 8:06\t1140\t22\n",
      "04.10.16 10:01\t1140\t22\n",
      "01.10.16 16:53\t1141\t16\n",
      "05.10.16 3:31\t1145\t16\n",
      "06.10.16 4:00\t1145\t20\n",
      "02.10.16 8:08\t1149\t10\n",
      "07.10.16 16:12\t1149\t21,2\n",
      "08.10.2016T 6:55:00\t1149\t30,4\n",
      "08.10.2016T 22:55:00\t1149\t18800000\n",
      "09.10.2016T 4:10:00\t1149\t14\n",
      "09.10.2016T 10:26:00\t1149\t22\n",
      "09.10.2016T 22:22:00\t1149\t16\n",
      "07.10.16 6:57\t1150\t12,6\n",
      "02.10.16 12:03\t1154\t13,4\n",
      "04.10.16 22:51\t1154\t13,6\n",
      "04.10.16 9:28\t1159\t10,2\n",
      "04.10.16 13:34\t1159\t17,4\n",
      "08.10.2016T 9:43:00\t1164\t22,4\n",
      "07.10.16 14:57\t1167\t11,4\n",
      "07.10.16 20:25\t1175\t14\n",
      "06.10.16 12:48\t1181\t22,4\n",
      "07.10.16 9:54\t1182\t18\n",
      "10.10.16 2:35\t1182\t17\n",
      "04.10.16 13:49\t1193\t24800000\n",
      "09.10.2016T 20:49:00\t1193\t16,6\n",
      "01.10.16 5:12\t1198\t17,8\n",
      "06.10.16 7:52\t1198\t9\n",
      "06.10.16 5:15\t1201\t10,6\n",
      "05.10.16 13:55\t1203\n",
      "06.10.16 5:56\t1203\n",
      "01.10.16 16:10\t1207\t16,6\n",
      "02.10.16 1:24\t1207\t24,2\n",
      "02.10.16 21:17\t1207\t20,4\n",
      "03.10.16 16:08\t1207\t25,6\n",
      "04.10.16 17:29\t1207\t19,8\n",
      "05.10.16 1:39\t1207\t16,4\n",
      "05.10.16 6:33\t1207\t16,2\n",
      "05.10.16 18:57\t1207\t17\n",
      "05.10.16 20:51\t1207\t16,8\n",
      "07.10.16 8:55\t1207\t19,8\n",
      "07.10.16 17:40\t1207\t15,6\n",
      "08.10.2016T 23:36:00\t1207\t19,2\n",
      "09.10.2016T 10:25:00\t1207\t23,2\n",
      "09.10.2016T 21:04:00\t1207\t10,8\n",
      "04.10.16 7:38\t1208\t24,4\n",
      "09.10.2016T 14:53:00\t1208\t13,4\n",
      "05.10.16 17:15\t1209\t12\n",
      "03.10.16 6:16\t1213\t18,6\n",
      "06.10.16 10:04\t1213\t16,6\n",
      "01.10.16 16:52\t1218\t12200000\n",
      "09.10.2016T 19:10:00\t1218\t22400000\n",
      "02.10.16 8:42\t1219\t15,4\n",
      "03.10.16 19:32\t1223\t17,2\n",
      "06.10.16 22:11\t1223\t17600000\n",
      "08.10.2016T 15:18:00\t1224\t16,4\n",
      "01.10.16 4:41\t1226\n",
      "03.10.16 9:32\t1226\n",
      "07.10.16 18:32\t1228\t18,8\n",
      "08.10.2016T 13:21:00\t1228\t17,6\n",
      "03.10.16 15:47\t1230\t20,6\n",
      "01.10.16 9:02\t1233\n",
      "01.10.16 10:27\t1233\n",
      "02.10.16 22:01\t1236\t17,4\n",
      "05.10.16 5:27\t1238\t13,6\n",
      "09.10.2016T 14:43:00\t1238\t17,6\n",
      "04.10.16 22:25\t1242\t18,4\n",
      "06.10.16 4:54\t1243\t20,4\n",
      "06.10.16 14:28\t1243\t20\n",
      "01.10.16 4:27\t1246\t17,8\n",
      "02.10.16 4:27\t1246\n",
      "02.10.16 8:45\t1246\n",
      "02.10.16 16:58\t1246\n",
      "02.10.16 17:30\t1246\n",
      "02.10.16 19:46\t1246\n",
      "03.10.16 2:05\t1246\n",
      "03.10.16 2:57\t1246\n",
      "03.10.16 7:19\t1246\n",
      "03.10.16 12:15\t1246\n",
      "03.10.16 14:58\t1246\n",
      "03.10.16 19:43\t1246\n",
      "04.10.16 7:27\t1246\n",
      "04.10.16 9:08\t1246\n",
      "04.10.16 13:52\t1246\n",
      "04.10.16 16:34\t1246\n",
      "05.10.16 0:27\t1246\n",
      "05.10.16 6:36\t1246\n",
      "05.10.16 12:59\t1246\n",
      "05.10.16 16:52\t1246\n",
      "05.10.16 17:26\t1246\n",
      "06.10.16 6:48\t1246\n",
      "08.10.2016T 2:53:00\t1246\n",
      "10.10.16 0:59\t1246\n",
      "01.10.16 16:30\t1248\t13,2\n",
      "01.10.16 21:06\t1248\t28,8\n",
      "02.10.16 7:12\t1252\t22\n",
      "04.10.16 13:51\t1252\t15,6\n",
      "01.10.16 12:36\t1253\t13,6\n",
      "04.10.16 17:11\t1253\t8,6\n",
      "02.10.16 16:22\t1258\t22\n",
      "08.10.2016T 19:34:00\t1258\t20\n",
      "02.10.16 10:36\t1263\t12,6\n",
      "03.10.16 6:10\t1263\t18\n",
      "02.10.16 21:42\t1267\n",
      "04.10.16 9:02\t1267\n",
      "04.10.16 12:10\t1267\n",
      "04.10.16 15:40\t1267\n",
      "04.10.16 18:37\t1267\n",
      "04.10.16 21:29\t1267\n",
      "05.10.16 21:11\t1267\n",
      "05.10.16 22:09\t1267\n",
      "06.10.16 3:58\t1267\n",
      "06.10.16 11:16\t1267\n",
      "06.10.16 19:20\t1267\n",
      "07.10.16 10:18\t1267\n",
      "08.10.2016T 18:18:00\t1267\n",
      "09.10.2016T 4:41:00\t1267\n",
      "09.10.2016T 9:13:00\t1267\n",
      "09.10.2016T 15:37:00\t1267\n",
      "09.10.2016T 18:56:00\t1267\n",
      "05.10.16 2:48\t1268\t16,4\n",
      "07.10.16 19:36\t1268\t16\n",
      "02.10.16 14:12\t1269\t22\n",
      "07.10.16 3:29\t1270\t21,8\n",
      "01.10.16 8:56\t1273\t14,6\n",
      "08.10.2016T 13:49:00\t1273\t22\n",
      "07.10.16 6:00\t1274\t25\n",
      "04.10.16 13:47\t1278\t15,6\n",
      "07.10.16 6:42\t1278\t17,8\n",
      "08.10.2016T 3:24:00\t1279\t14,8\n",
      "03.10.16 1:03\t1281\t18,2\n",
      "02.10.16 6:11\t1283\t12,6\n",
      "02.10.16 19:24\t1283\t11,8\n",
      "07.10.16 13:37\t1288\t16\n",
      "08.10.2016T 19:46:00\t1288\t30,4\n",
      "07.10.16 2:41\t1291\t13,4\n",
      "01.10.16 17:29\t1293\t18,4\n",
      "02.10.16 20:12\t1293\t20\n",
      "02.10.16 23:36\t1294\t17\n",
      "07.10.16 10:32\t1296\t26\n",
      "03.10.16 20:41\t1298\t21\n",
      "03.10.16 22:35\t1298\t19,4\n",
      "05.10.16 12:19\t1298\t16\n",
      "02.10.16 11:43\t1300\t12,8\n",
      "03.10.16 23:18\t1300\t14\n",
      "03.10.16 18:28\t1302\t21800000\n",
      "02.10.16 8:06\t1303\t11,8\n",
      "06.10.16 6:23\t1303\t25,8\n",
      "03.10.16 10:42\t1308\t18\n",
      "06.10.16 18:52\t1308\t10,2\n",
      "06.10.16 16:16\t1313\t12\n",
      "08.10.2016T 18:12:00\t1313\t13,8\n",
      "02.10.16 14:04\t1315\t16,6\n",
      "03.10.16 14:10\t1318\n",
      "03.10.16 18:15\t1318\n",
      "03.10.16 18:27\t1318\n",
      "04.10.16 17:09\t1318\n",
      "05.10.16 11:07\t1318\n",
      "06.10.16 1:46\t1318\n",
      "06.10.16 22:29\t1318\n",
      "07.10.16 0:44\t1318\n",
      "07.10.16 10:17\t1318\n",
      "07.10.16 11:29\t1318\n",
      "08.10.2016T 23:18:00\t1318\n",
      "09.10.2016T 1:37:00\t1318\n",
      "09.10.2016T 7:48:00\t1318\n",
      "09.10.2016T 22:27:00\t1318\n",
      "06.10.16 17:08\t1320\t18\n",
      "09.10.2016T 2:35:00\t1323\t16\n",
      "09.10.2016T 10:08:00\t1323\t28,6\n",
      "05.10.16 7:29\t1328\t18,4\n",
      "05.10.16 11:58\t1328\t18,8\n",
      "03.10.16 0:36\t1330\t17,8\n",
      "09.10.2016T 2:08:00\t1331\t16,8\n",
      "03.10.16 2:19\t1332\t19,4\n",
      "04.10.16 22:01\t1333\t20\n",
      "08.10.2016T 3:48:00\t1334\t16\n",
      "03.10.16 1:32\t1343\t22\n",
      "08.10.2016T 4:34:00\t1350\t12800000\n",
      "04.10.16 4:09\t1351\t20\n",
      "06.10.16 19:09\t1353\t17,4\n",
      "03.10.16 1:30\t1354\t15,6\n",
      "02.10.16 23:30\t1355\t22\n",
      "08.10.2016T 6:50:00\t1359\t14,4\n",
      "02.10.16 13:33\t1362\t12,2\n",
      "05.10.16 21:36\t1363\t12,2\n",
      "04.10.16 22:06\t1364\t20\n",
      "01.10.16 5:29\t1366\t13000000\n",
      "07.10.16 9:40\t1367\t22,4\n",
      "04.10.16 7:31\t1371\t13,6\n",
      "04.10.16 1:36\t1372\t30,4\n",
      "07.10.16 17:25\t1374\t12,4\n",
      "05.10.16 23:06\t1377\t16\n",
      "06.10.16 14:29\t1380\t30,4\n",
      "09.10.2016T 4:55:00\t1382\t23,2\n",
      "05.10.16 21:24\t1383\t20\n",
      "05.10.16 8:14\t1386\t12,6\n",
      "03.10.16 11:43\t1387\t14,6\n",
      "01.10.16 6:21\t1388\t11,8\n",
      "03.10.16 6:03\t1392\t20,2\n",
      "06.10.16 5:34\t1393\t10\n",
      "04.10.16 23:55\t1394\t12,8\n",
      "05.10.16 5:01\t1397\t20,6\n",
      "05.10.16 22:54\t1398\t18\n",
      "01.10.16 17:01\t1424\n",
      "03.10.16 6:50\t1424\n",
      "04.10.16 5:27\t1424\n",
      "04.10.16 16:14\t1424\n",
      "04.10.16 18:21\t1424\n",
      "05.10.16 23:33\t1424\n",
      "06.10.16 7:27\t1424\n",
      "07.10.16 3:01\t1424\n",
      "07.10.16 16:08\t1424\n",
      "07.10.16 16:12\t1424\n",
      "08.10.2016T 12:41:00\t1424\n",
      "08.10.2016T 15:26:00\t1424\n",
      "08.10.2016T 17:21:00\t1424\n",
      "09.10.2016T 8:00:00\t1424\n",
      "10.10.16 1:24\t1424\n"
     ]
    }
   ],
   "source": [
    "with open('real_data.txt', 'r') as f:\n",
    "    for line in f:\n",
    "        print(line.strip())"
   ]
  },
  {
   "cell_type": "code",
   "execution_count": 39,
   "metadata": {},
   "outputs": [],
   "source": [
    "from datetime import datetime"
   ]
  },
  {
   "cell_type": "code",
   "execution_count": 48,
   "metadata": {},
   "outputs": [],
   "source": [
    "DATE_FORMATS = ['%d.%m.%y %H:%M', '%d.%m.%YT %H:%M:%S']"
   ]
  },
  {
   "cell_type": "code",
   "execution_count": 54,
   "metadata": {},
   "outputs": [],
   "source": [
    "def convert_to_date(date):\n",
    "    for format_ in DATE_FORMATS:\n",
    "        try:\n",
    "            return datetime.strptime(date, format_)\n",
    "        except:\n",
    "            continue\n",
    "            \n",
    "    print('Странный формат даты!', date)\n",
    "    raise ValueError('Странный формат даты!')\n",
    "    return '1900-01-01'"
   ]
  },
  {
   "cell_type": "code",
   "execution_count": 55,
   "metadata": {},
   "outputs": [
    {
     "name": "stdout",
     "output_type": "stream",
     "text": [
      "Странный формат даты! 09.10.2016ZZZ21:40:00\n"
     ]
    },
    {
     "ename": "ValueError",
     "evalue": "Странный формат даты!",
     "output_type": "error",
     "traceback": [
      "\u001b[0;31m---------------------------------------------------------------------------\u001b[0m",
      "\u001b[0;31mValueError\u001b[0m                                Traceback (most recent call last)",
      "\u001b[0;32m<ipython-input-55-5ccd4b9a72bc>\u001b[0m in \u001b[0;36m<module>\u001b[0;34m\u001b[0m\n\u001b[0;32m----> 1\u001b[0;31m \u001b[0mconvert_to_date\u001b[0m\u001b[0;34m(\u001b[0m\u001b[0;34m'09.10.2016ZZZ21:40:00'\u001b[0m\u001b[0;34m)\u001b[0m\u001b[0;34m\u001b[0m\u001b[0;34m\u001b[0m\u001b[0m\n\u001b[0m",
      "\u001b[0;32m<ipython-input-54-98de483588fd>\u001b[0m in \u001b[0;36mconvert_to_date\u001b[0;34m(date)\u001b[0m\n\u001b[1;32m      7\u001b[0m \u001b[0;34m\u001b[0m\u001b[0m\n\u001b[1;32m      8\u001b[0m     \u001b[0mprint\u001b[0m\u001b[0;34m(\u001b[0m\u001b[0;34m'Странный формат даты!'\u001b[0m\u001b[0;34m,\u001b[0m \u001b[0mdate\u001b[0m\u001b[0;34m)\u001b[0m\u001b[0;34m\u001b[0m\u001b[0;34m\u001b[0m\u001b[0m\n\u001b[0;32m----> 9\u001b[0;31m     \u001b[0;32mraise\u001b[0m \u001b[0mValueError\u001b[0m\u001b[0;34m(\u001b[0m\u001b[0;34m'Странный формат даты!'\u001b[0m\u001b[0;34m)\u001b[0m\u001b[0;34m\u001b[0m\u001b[0;34m\u001b[0m\u001b[0m\n\u001b[0m\u001b[1;32m     10\u001b[0m     \u001b[0;32mreturn\u001b[0m \u001b[0;34m'1900-01-01'\u001b[0m\u001b[0;34m\u001b[0m\u001b[0;34m\u001b[0m\u001b[0m\n",
      "\u001b[0;31mValueError\u001b[0m: Странный формат даты!"
     ]
    }
   ],
   "source": [
    "convert_to_date('09.10.2016ZZZ21:40:00')"
   ]
  },
  {
   "cell_type": "code",
   "execution_count": 50,
   "metadata": {},
   "outputs": [
    {
     "data": {
      "text/plain": [
       "datetime.datetime(2016, 10, 9, 21, 40)"
      ]
     },
     "execution_count": 50,
     "metadata": {},
     "output_type": "execute_result"
    }
   ],
   "source": [
    "convert_to_date('09.10.2016T 21:40:00')"
   ]
  },
  {
   "cell_type": "code",
   "execution_count": 51,
   "metadata": {},
   "outputs": [],
   "source": [
    "with open('real_data.txt', 'r') as f:\n",
    "    for line in f:\n",
    "#         print(line)\n",
    "        \n",
    "        if len(line.strip().split('\\t')) == 3:\n",
    "            date, user_id, cost = line.strip().split('\\t')\n",
    "            \n",
    "            date = convert_to_date(date)\n",
    "            \n",
    "#             print(date, user_id, float(cost.replace(',', '.')))"
   ]
  },
  {
   "cell_type": "code",
   "execution_count": null,
   "metadata": {},
   "outputs": [],
   "source": []
  },
  {
   "cell_type": "markdown",
   "metadata": {},
   "source": [
    "Чем прекрасен этот файл:\n",
    "1. Даты имеют разный формат: за 8 и 9 октября формат с \"09.10.2016 21:40\" сменился на \"09.10.2016T 21:40:00\" (добавилась буква T и секунды). Разработчики объяснили этот тем, что сбились настройки после обновления одной из баз данных.\n",
    "2. У покупок некоторых пользователей неизвестно значение выручки, из-за чего количество столбцов в строке уменьшается на один.\n",
    "3. У некоторых строк реальная сумма покупки умножена на миллион. Так иногда действительно делают, чтобы избежать дробных чисел и работать только с целыми."
   ]
  },
  {
   "cell_type": "markdown",
   "metadata": {},
   "source": [
    "Необходимо посчитать сумму выручки из третьего столбца."
   ]
  },
  {
   "cell_type": "code",
   "execution_count": 2,
   "metadata": {},
   "outputs": [],
   "source": [
    "import requests"
   ]
  },
  {
   "cell_type": "code",
   "execution_count": 62,
   "metadata": {},
   "outputs": [
    {
     "data": {
      "text/plain": [
       "{'ID': 'R01010',\n",
       " 'NumCode': '036',\n",
       " 'CharCode': 'AUD',\n",
       " 'Nominal': 1,\n",
       " 'Name': 'Австралийский доллар',\n",
       " 'Value': 56.8828,\n",
       " 'Previous': 56.9667}"
      ]
     },
     "execution_count": 62,
     "metadata": {},
     "output_type": "execute_result"
    }
   ],
   "source": [
    "requests.get('https://www.cbr-xml-daily.ru/daily_json.js').json()['Valute']['AUD']"
   ]
  },
  {
   "cell_type": "markdown",
   "metadata": {},
   "source": [
    "# Сеть\n",
    "- мигнет вайфай\n",
    "- РТ\n",
    "\n",
    "# Недоступность сервиса\n",
    "- 99.999%"
   ]
  },
  {
   "cell_type": "code",
   "execution_count": null,
   "metadata": {},
   "outputs": [],
   "source": [
    "3 дня"
   ]
  },
  {
   "cell_type": "code",
   "execution_count": 4,
   "metadata": {},
   "outputs": [],
   "source": [
    "for i in range(1000):\n",
    "    requests.get('https://www.cbr-xml-daily.ru/daily_json.js').json()['Valute']['AUD']\n",
    "    \n",
    "    break"
   ]
  },
  {
   "cell_type": "code",
   "execution_count": 3,
   "metadata": {},
   "outputs": [
    {
     "data": {
      "text/plain": [
       "{'Date': '2021-05-29T11:30:00+03:00',\n",
       " 'PreviousDate': '2021-05-28T11:30:00+03:00',\n",
       " 'PreviousURL': '//www.cbr-xml-daily.ru/archive/2021/05/28/daily_json.js',\n",
       " 'Timestamp': '2021-05-28T21:00:00+03:00',\n",
       " 'Valute': {'AUD': {'ID': 'R01010',\n",
       "   'NumCode': '036',\n",
       "   'CharCode': 'AUD',\n",
       "   'Nominal': 1,\n",
       "   'Name': 'Австралийский доллар',\n",
       "   'Value': 56.8828,\n",
       "   'Previous': 56.9667},\n",
       "  'AZN': {'ID': 'R01020A',\n",
       "   'NumCode': '944',\n",
       "   'CharCode': 'AZN',\n",
       "   'Nominal': 1,\n",
       "   'Name': 'Азербайджанский манат',\n",
       "   'Value': 43.3119,\n",
       "   'Previous': 43.236},\n",
       "  'GBP': {'ID': 'R01035',\n",
       "   'NumCode': '826',\n",
       "   'CharCode': 'GBP',\n",
       "   'Nominal': 1,\n",
       "   'Name': 'Фунт стерлингов Соединенного королевства',\n",
       "   'Value': 104.4567,\n",
       "   'Previous': 103.8549},\n",
       "  'AMD': {'ID': 'R01060',\n",
       "   'NumCode': '051',\n",
       "   'CharCode': 'AMD',\n",
       "   'Nominal': 100,\n",
       "   'Name': 'Армянских драмов',\n",
       "   'Value': 14.1302,\n",
       "   'Previous': 14.1081},\n",
       "  'BYN': {'ID': 'R01090B',\n",
       "   'NumCode': '933',\n",
       "   'CharCode': 'BYN',\n",
       "   'Nominal': 1,\n",
       "   'Name': 'Белорусский рубль',\n",
       "   'Value': 29.0594,\n",
       "   'Previous': 29.1269},\n",
       "  'BGN': {'ID': 'R01100',\n",
       "   'NumCode': '975',\n",
       "   'CharCode': 'BGN',\n",
       "   'Nominal': 1,\n",
       "   'Name': 'Болгарский лев',\n",
       "   'Value': 45.8886,\n",
       "   'Previous': 45.8625},\n",
       "  'BRL': {'ID': 'R01115',\n",
       "   'NumCode': '986',\n",
       "   'CharCode': 'BRL',\n",
       "   'Nominal': 1,\n",
       "   'Name': 'Бразильский реал',\n",
       "   'Value': 14.0447,\n",
       "   'Previous': 13.8284},\n",
       "  'HUF': {'ID': 'R01135',\n",
       "   'NumCode': '348',\n",
       "   'CharCode': 'HUF',\n",
       "   'Nominal': 100,\n",
       "   'Name': 'Венгерских форинтов',\n",
       "   'Value': 25.7965,\n",
       "   'Previous': 25.7224},\n",
       "  'HKD': {'ID': 'R01200',\n",
       "   'NumCode': '344',\n",
       "   'CharCode': 'HKD',\n",
       "   'Nominal': 10,\n",
       "   'Name': 'Гонконгских долларов',\n",
       "   'Value': 94.8115,\n",
       "   'Previous': 94.6477},\n",
       "  'DKK': {'ID': 'R01215',\n",
       "   'NumCode': '208',\n",
       "   'CharCode': 'DKK',\n",
       "   'Nominal': 1,\n",
       "   'Name': 'Датская крона',\n",
       "   'Value': 12.0698,\n",
       "   'Previous': 12.0631},\n",
       "  'USD': {'ID': 'R01235',\n",
       "   'NumCode': '840',\n",
       "   'CharCode': 'USD',\n",
       "   'Nominal': 1,\n",
       "   'Name': 'Доллар США',\n",
       "   'Value': 73.587,\n",
       "   'Previous': 73.458},\n",
       "  'EUR': {'ID': 'R01239',\n",
       "   'NumCode': '978',\n",
       "   'CharCode': 'EUR',\n",
       "   'Nominal': 1,\n",
       "   'Name': 'Евро',\n",
       "   'Value': 89.6731,\n",
       "   'Previous': 89.6555},\n",
       "  'INR': {'ID': 'R01270',\n",
       "   'NumCode': '356',\n",
       "   'CharCode': 'INR',\n",
       "   'Nominal': 10,\n",
       "   'Name': 'Индийских рупий',\n",
       "   'Value': 10.1599,\n",
       "   'Previous': 10.114},\n",
       "  'KZT': {'ID': 'R01335',\n",
       "   'NumCode': '398',\n",
       "   'CharCode': 'KZT',\n",
       "   'Nominal': 100,\n",
       "   'Name': 'Казахстанских тенге',\n",
       "   'Value': 17.167,\n",
       "   'Previous': 17.1289},\n",
       "  'CAD': {'ID': 'R01350',\n",
       "   'NumCode': '124',\n",
       "   'CharCode': 'CAD',\n",
       "   'Nominal': 1,\n",
       "   'Name': 'Канадский доллар',\n",
       "   'Value': 60.9416,\n",
       "   'Previous': 60.684},\n",
       "  'KGS': {'ID': 'R01370',\n",
       "   'NumCode': '417',\n",
       "   'CharCode': 'KGS',\n",
       "   'Nominal': 100,\n",
       "   'Name': 'Киргизских сомов',\n",
       "   'Value': 88.2232,\n",
       "   'Previous': 88.4606},\n",
       "  'CNY': {'ID': 'R01375',\n",
       "   'NumCode': '156',\n",
       "   'CharCode': 'CNY',\n",
       "   'Nominal': 1,\n",
       "   'Name': 'Китайский юань',\n",
       "   'Value': 11.5594,\n",
       "   'Previous': 11.5208},\n",
       "  'MDL': {'ID': 'R01500',\n",
       "   'NumCode': '498',\n",
       "   'CharCode': 'MDL',\n",
       "   'Nominal': 10,\n",
       "   'Name': 'Молдавских леев',\n",
       "   'Value': 41.8227,\n",
       "   'Previous': 41.7256},\n",
       "  'NOK': {'ID': 'R01535',\n",
       "   'NumCode': '578',\n",
       "   'CharCode': 'NOK',\n",
       "   'Nominal': 10,\n",
       "   'Name': 'Норвежских крон',\n",
       "   'Value': 88.2412,\n",
       "   'Previous': 87.9989},\n",
       "  'PLN': {'ID': 'R01565',\n",
       "   'NumCode': '985',\n",
       "   'CharCode': 'PLN',\n",
       "   'Nominal': 1,\n",
       "   'Name': 'Польский злотый',\n",
       "   'Value': 19.9992,\n",
       "   'Previous': 19.9479},\n",
       "  'RON': {'ID': 'R01585F',\n",
       "   'NumCode': '946',\n",
       "   'CharCode': 'RON',\n",
       "   'Nominal': 1,\n",
       "   'Name': 'Румынский лей',\n",
       "   'Value': 18.244,\n",
       "   'Previous': 18.2409},\n",
       "  'XDR': {'ID': 'R01589',\n",
       "   'NumCode': '960',\n",
       "   'CharCode': 'XDR',\n",
       "   'Nominal': 1,\n",
       "   'Name': 'СДР (специальные права заимствования)',\n",
       "   'Value': 106.3089,\n",
       "   'Previous': 106.2504},\n",
       "  'SGD': {'ID': 'R01625',\n",
       "   'NumCode': '702',\n",
       "   'CharCode': 'SGD',\n",
       "   'Nominal': 1,\n",
       "   'Name': 'Сингапурский доллар',\n",
       "   'Value': 55.6129,\n",
       "   'Previous': 55.5238},\n",
       "  'TJS': {'ID': 'R01670',\n",
       "   'NumCode': '972',\n",
       "   'CharCode': 'TJS',\n",
       "   'Nominal': 10,\n",
       "   'Name': 'Таджикских сомони',\n",
       "   'Value': 64.5217,\n",
       "   'Previous': 64.4086},\n",
       "  'TRY': {'ID': 'R01700J',\n",
       "   'NumCode': '949',\n",
       "   'CharCode': 'TRY',\n",
       "   'Nominal': 10,\n",
       "   'Name': 'Турецких лир',\n",
       "   'Value': 85.9591,\n",
       "   'Previous': 87.1491},\n",
       "  'TMT': {'ID': 'R01710A',\n",
       "   'NumCode': '934',\n",
       "   'CharCode': 'TMT',\n",
       "   'Nominal': 1,\n",
       "   'Name': 'Новый туркменский манат',\n",
       "   'Value': 21.0549,\n",
       "   'Previous': 21.018},\n",
       "  'UZS': {'ID': 'R01717',\n",
       "   'NumCode': '860',\n",
       "   'CharCode': 'UZS',\n",
       "   'Nominal': 10000,\n",
       "   'Name': 'Узбекских сумов',\n",
       "   'Value': 69.4936,\n",
       "   'Previous': 69.2353},\n",
       "  'UAH': {'ID': 'R01720',\n",
       "   'NumCode': '980',\n",
       "   'CharCode': 'UAH',\n",
       "   'Nominal': 10,\n",
       "   'Name': 'Украинских гривен',\n",
       "   'Value': 26.7711,\n",
       "   'Previous': 26.7026},\n",
       "  'CZK': {'ID': 'R01760',\n",
       "   'NumCode': '203',\n",
       "   'CharCode': 'CZK',\n",
       "   'Nominal': 10,\n",
       "   'Name': 'Чешских крон',\n",
       "   'Value': 35.2715,\n",
       "   'Previous': 35.2553},\n",
       "  'SEK': {'ID': 'R01770',\n",
       "   'NumCode': '752',\n",
       "   'CharCode': 'SEK',\n",
       "   'Nominal': 10,\n",
       "   'Name': 'Шведских крон',\n",
       "   'Value': 88.7928,\n",
       "   'Previous': 88.5474},\n",
       "  'CHF': {'ID': 'R01775',\n",
       "   'NumCode': '756',\n",
       "   'CharCode': 'CHF',\n",
       "   'Nominal': 1,\n",
       "   'Name': 'Швейцарский франк',\n",
       "   'Value': 81.9911,\n",
       "   'Previous': 81.9569},\n",
       "  'ZAR': {'ID': 'R01810',\n",
       "   'NumCode': '710',\n",
       "   'CharCode': 'ZAR',\n",
       "   'Nominal': 10,\n",
       "   'Name': 'Южноафриканских рэндов',\n",
       "   'Value': 53.2275,\n",
       "   'Previous': 53.6734},\n",
       "  'KRW': {'ID': 'R01815',\n",
       "   'NumCode': '410',\n",
       "   'CharCode': 'KRW',\n",
       "   'Nominal': 1000,\n",
       "   'Name': 'Вон Республики Корея',\n",
       "   'Value': 66.0474,\n",
       "   'Previous': 65.7987},\n",
       "  'JPY': {'ID': 'R01820',\n",
       "   'NumCode': '392',\n",
       "   'CharCode': 'JPY',\n",
       "   'Nominal': 100,\n",
       "   'Name': 'Японских иен',\n",
       "   'Value': 66.9917,\n",
       "   'Previous': 67.3525}}}"
      ]
     },
     "execution_count": 3,
     "metadata": {},
     "output_type": "execute_result"
    }
   ],
   "source": [
    "requests.get('https://www.cbr-xml-daily.ru/daily_json.js', timeout=10).json()"
   ]
  },
  {
   "cell_type": "code",
   "execution_count": 64,
   "metadata": {},
   "outputs": [],
   "source": [
    "def get_data():\n",
    "    return requests.get('https://www.cbr-xml-daily.ru/daily_json.js').json()"
   ]
  },
  {
   "cell_type": "code",
   "execution_count": 66,
   "metadata": {},
   "outputs": [],
   "source": [
    "import time"
   ]
  },
  {
   "cell_type": "code",
   "execution_count": 68,
   "metadata": {},
   "outputs": [
    {
     "name": "stdout",
     "output_type": "stream",
     "text": [
      "Жду секунд 1\n",
      "Жду секунд 2\n",
      "Жду секунд 4\n",
      "Жду секунд 8\n",
      "Жду секунд 16\n"
     ]
    }
   ],
   "source": [
    "for i in range(N_RETRIES):\n",
    "    print('Жду секунд', 2**i)\n",
    "    time.sleep(2**i)"
   ]
  },
  {
   "cell_type": "code",
   "execution_count": 67,
   "metadata": {},
   "outputs": [
    {
     "name": "stdout",
     "output_type": "stream",
     "text": [
      "{'Date': '2021-05-29T11:30:00+03:00', 'PreviousDate': '2021-05-28T11:30:00+03:00', 'PreviousURL': '//www.cbr-xml-daily.ru/archive/2021/05/28/daily_json.js', 'Timestamp': '2021-05-28T19:00:00+03:00', 'Valute': {'AUD': {'ID': 'R01010', 'NumCode': '036', 'CharCode': 'AUD', 'Nominal': 1, 'Name': 'Австралийский доллар', 'Value': 56.8828, 'Previous': 56.9667}, 'AZN': {'ID': 'R01020A', 'NumCode': '944', 'CharCode': 'AZN', 'Nominal': 1, 'Name': 'Азербайджанский манат', 'Value': 43.3119, 'Previous': 43.236}, 'GBP': {'ID': 'R01035', 'NumCode': '826', 'CharCode': 'GBP', 'Nominal': 1, 'Name': 'Фунт стерлингов Соединенного королевства', 'Value': 104.4567, 'Previous': 103.8549}, 'AMD': {'ID': 'R01060', 'NumCode': '051', 'CharCode': 'AMD', 'Nominal': 100, 'Name': 'Армянских драмов', 'Value': 14.1302, 'Previous': 14.1081}, 'BYN': {'ID': 'R01090B', 'NumCode': '933', 'CharCode': 'BYN', 'Nominal': 1, 'Name': 'Белорусский рубль', 'Value': 29.0594, 'Previous': 29.1269}, 'BGN': {'ID': 'R01100', 'NumCode': '975', 'CharCode': 'BGN', 'Nominal': 1, 'Name': 'Болгарский лев', 'Value': 45.8886, 'Previous': 45.8625}, 'BRL': {'ID': 'R01115', 'NumCode': '986', 'CharCode': 'BRL', 'Nominal': 1, 'Name': 'Бразильский реал', 'Value': 14.0447, 'Previous': 13.8284}, 'HUF': {'ID': 'R01135', 'NumCode': '348', 'CharCode': 'HUF', 'Nominal': 100, 'Name': 'Венгерских форинтов', 'Value': 25.7965, 'Previous': 25.7224}, 'HKD': {'ID': 'R01200', 'NumCode': '344', 'CharCode': 'HKD', 'Nominal': 10, 'Name': 'Гонконгских долларов', 'Value': 94.8115, 'Previous': 94.6477}, 'DKK': {'ID': 'R01215', 'NumCode': '208', 'CharCode': 'DKK', 'Nominal': 1, 'Name': 'Датская крона', 'Value': 12.0698, 'Previous': 12.0631}, 'USD': {'ID': 'R01235', 'NumCode': '840', 'CharCode': 'USD', 'Nominal': 1, 'Name': 'Доллар США', 'Value': 73.587, 'Previous': 73.458}, 'EUR': {'ID': 'R01239', 'NumCode': '978', 'CharCode': 'EUR', 'Nominal': 1, 'Name': 'Евро', 'Value': 89.6731, 'Previous': 89.6555}, 'INR': {'ID': 'R01270', 'NumCode': '356', 'CharCode': 'INR', 'Nominal': 10, 'Name': 'Индийских рупий', 'Value': 10.1599, 'Previous': 10.114}, 'KZT': {'ID': 'R01335', 'NumCode': '398', 'CharCode': 'KZT', 'Nominal': 100, 'Name': 'Казахстанских тенге', 'Value': 17.167, 'Previous': 17.1289}, 'CAD': {'ID': 'R01350', 'NumCode': '124', 'CharCode': 'CAD', 'Nominal': 1, 'Name': 'Канадский доллар', 'Value': 60.9416, 'Previous': 60.684}, 'KGS': {'ID': 'R01370', 'NumCode': '417', 'CharCode': 'KGS', 'Nominal': 100, 'Name': 'Киргизских сомов', 'Value': 88.2232, 'Previous': 88.4606}, 'CNY': {'ID': 'R01375', 'NumCode': '156', 'CharCode': 'CNY', 'Nominal': 1, 'Name': 'Китайский юань', 'Value': 11.5594, 'Previous': 11.5208}, 'MDL': {'ID': 'R01500', 'NumCode': '498', 'CharCode': 'MDL', 'Nominal': 10, 'Name': 'Молдавских леев', 'Value': 41.8227, 'Previous': 41.7256}, 'NOK': {'ID': 'R01535', 'NumCode': '578', 'CharCode': 'NOK', 'Nominal': 10, 'Name': 'Норвежских крон', 'Value': 88.2412, 'Previous': 87.9989}, 'PLN': {'ID': 'R01565', 'NumCode': '985', 'CharCode': 'PLN', 'Nominal': 1, 'Name': 'Польский злотый', 'Value': 19.9992, 'Previous': 19.9479}, 'RON': {'ID': 'R01585F', 'NumCode': '946', 'CharCode': 'RON', 'Nominal': 1, 'Name': 'Румынский лей', 'Value': 18.244, 'Previous': 18.2409}, 'XDR': {'ID': 'R01589', 'NumCode': '960', 'CharCode': 'XDR', 'Nominal': 1, 'Name': 'СДР (специальные права заимствования)', 'Value': 106.3089, 'Previous': 106.2504}, 'SGD': {'ID': 'R01625', 'NumCode': '702', 'CharCode': 'SGD', 'Nominal': 1, 'Name': 'Сингапурский доллар', 'Value': 55.6129, 'Previous': 55.5238}, 'TJS': {'ID': 'R01670', 'NumCode': '972', 'CharCode': 'TJS', 'Nominal': 10, 'Name': 'Таджикских сомони', 'Value': 64.5217, 'Previous': 64.4086}, 'TRY': {'ID': 'R01700J', 'NumCode': '949', 'CharCode': 'TRY', 'Nominal': 10, 'Name': 'Турецких лир', 'Value': 85.9591, 'Previous': 87.1491}, 'TMT': {'ID': 'R01710A', 'NumCode': '934', 'CharCode': 'TMT', 'Nominal': 1, 'Name': 'Новый туркменский манат', 'Value': 21.0549, 'Previous': 21.018}, 'UZS': {'ID': 'R01717', 'NumCode': '860', 'CharCode': 'UZS', 'Nominal': 10000, 'Name': 'Узбекских сумов', 'Value': 69.4936, 'Previous': 69.2353}, 'UAH': {'ID': 'R01720', 'NumCode': '980', 'CharCode': 'UAH', 'Nominal': 10, 'Name': 'Украинских гривен', 'Value': 26.7711, 'Previous': 26.7026}, 'CZK': {'ID': 'R01760', 'NumCode': '203', 'CharCode': 'CZK', 'Nominal': 10, 'Name': 'Чешских крон', 'Value': 35.2715, 'Previous': 35.2553}, 'SEK': {'ID': 'R01770', 'NumCode': '752', 'CharCode': 'SEK', 'Nominal': 10, 'Name': 'Шведских крон', 'Value': 88.7928, 'Previous': 88.5474}, 'CHF': {'ID': 'R01775', 'NumCode': '756', 'CharCode': 'CHF', 'Nominal': 1, 'Name': 'Швейцарский франк', 'Value': 81.9911, 'Previous': 81.9569}, 'ZAR': {'ID': 'R01810', 'NumCode': '710', 'CharCode': 'ZAR', 'Nominal': 10, 'Name': 'Южноафриканских рэндов', 'Value': 53.2275, 'Previous': 53.6734}, 'KRW': {'ID': 'R01815', 'NumCode': '410', 'CharCode': 'KRW', 'Nominal': 1000, 'Name': 'Вон Республики Корея', 'Value': 66.0474, 'Previous': 65.7987}, 'JPY': {'ID': 'R01820', 'NumCode': '392', 'CharCode': 'JPY', 'Nominal': 100, 'Name': 'Японских иен', 'Value': 66.9917, 'Previous': 67.3525}}}\n"
     ]
    }
   ],
   "source": [
    "N_RETRIES = 5\n",
    "\n",
    "for i in range(N_RETRIES):\n",
    "    try:\n",
    "        results = get_data()\n",
    "    except:\n",
    "        print('Что-то не так')\n",
    "        time.sleep(2**i)\n",
    "        \n",
    "print(results)"
   ]
  },
  {
   "cell_type": "code",
   "execution_count": null,
   "metadata": {},
   "outputs": [],
   "source": []
  },
  {
   "cell_type": "code",
   "execution_count": null,
   "metadata": {},
   "outputs": [],
   "source": []
  },
  {
   "cell_type": "markdown",
   "metadata": {},
   "source": [
    "# Даты"
   ]
  },
  {
   "cell_type": "code",
   "execution_count": null,
   "metadata": {},
   "outputs": [],
   "source": [
    "# иногда импортируют так\n",
    "import datetime"
   ]
  },
  {
   "cell_type": "code",
   "execution_count": null,
   "metadata": {},
   "outputs": [],
   "source": [
    "# можно и так\n",
    "import datetime as dt"
   ]
  },
  {
   "cell_type": "code",
   "execution_count": null,
   "metadata": {},
   "outputs": [],
   "source": [
    "# у нас будет вариант покороче (но это не одно и то же)\n",
    "from datetime import datetime"
   ]
  },
  {
   "cell_type": "code",
   "execution_count": null,
   "metadata": {},
   "outputs": [],
   "source": [
    "date_string = '09.05.2018  09:00'"
   ]
  },
  {
   "cell_type": "code",
   "execution_count": null,
   "metadata": {},
   "outputs": [],
   "source": [
    "# сейчас date_string это просто строка\n",
    "type(date_string)"
   ]
  },
  {
   "cell_type": "code",
   "execution_count": null,
   "metadata": {},
   "outputs": [],
   "source": [
    "datetime.strptime('09.05.2018 09:00', '%d.%m.%Y %H:%M')"
   ]
  },
  {
   "cell_type": "code",
   "execution_count": null,
   "metadata": {},
   "outputs": [],
   "source": [
    "# https://docs.python.org/3/library/datetime.html\n",
    "\n",
    "date_datetime = datetime.strptime( date_string, '%d.%m.%Y %H:%M' )\n",
    "date_datetime"
   ]
  },
  {
   "cell_type": "code",
   "execution_count": null,
   "metadata": {},
   "outputs": [],
   "source": [
    "# теперь можем работать с датами\n",
    "type(date_datetime)"
   ]
  },
  {
   "cell_type": "code",
   "execution_count": null,
   "metadata": {},
   "outputs": [],
   "source": [
    "# получить номер года и часа\n",
    "date_datetime.year, date_datetime.hour"
   ]
  },
  {
   "cell_type": "code",
   "execution_count": null,
   "metadata": {},
   "outputs": [],
   "source": [
    "# день недели\n",
    "date_datetime.weekday()"
   ]
  },
  {
   "cell_type": "code",
   "execution_count": null,
   "metadata": {},
   "outputs": [],
   "source": [
    "# сегодня\n",
    "datetime.now()"
   ]
  },
  {
   "cell_type": "markdown",
   "metadata": {},
   "source": [
    "### Упражнение\n",
    "С помощью метода datetime.strptime переведите строку 'May 25 2017 5:00AM' в формат datetime."
   ]
  },
  {
   "cell_type": "code",
   "execution_count": null,
   "metadata": {},
   "outputs": [],
   "source": []
  },
  {
   "cell_type": "code",
   "execution_count": null,
   "metadata": {},
   "outputs": [],
   "source": []
  },
  {
   "cell_type": "code",
   "execution_count": null,
   "metadata": {},
   "outputs": [],
   "source": []
  },
  {
   "cell_type": "markdown",
   "metadata": {},
   "source": [
    "### Прибавление интервала к датам"
   ]
  },
  {
   "cell_type": "code",
   "execution_count": null,
   "metadata": {},
   "outputs": [],
   "source": [
    "from datetime import timedelta"
   ]
  },
  {
   "cell_type": "code",
   "execution_count": null,
   "metadata": {},
   "outputs": [],
   "source": [
    "start_date = '2018-01-01'\n",
    "end_date = '2018-01-07'"
   ]
  },
  {
   "cell_type": "code",
   "execution_count": null,
   "metadata": {},
   "outputs": [],
   "source": [
    "type(start_date)"
   ]
  },
  {
   "cell_type": "code",
   "execution_count": null,
   "metadata": {},
   "outputs": [],
   "source": [
    "start_date_datetime = datetime.strptime(start_date, '%Y-%m-%d')\n",
    "start_date_datetime"
   ]
  },
  {
   "cell_type": "code",
   "execution_count": null,
   "metadata": {},
   "outputs": [],
   "source": [
    "start_date_datetime + timedelta(days=1)"
   ]
  },
  {
   "cell_type": "code",
   "execution_count": null,
   "metadata": {},
   "outputs": [],
   "source": [
    "start_date_datetime + timedelta(days=-7, minutes=-1)"
   ]
  },
  {
   "cell_type": "markdown",
   "metadata": {},
   "source": [
    "### Перевод обратно в строку"
   ]
  },
  {
   "cell_type": "code",
   "execution_count": null,
   "metadata": {},
   "outputs": [],
   "source": [
    "date = datetime(2018, 9, 1)\n",
    "date"
   ]
  },
  {
   "cell_type": "code",
   "execution_count": null,
   "metadata": {},
   "outputs": [],
   "source": [
    "date.strftime('%Y-%m-%d')"
   ]
  },
  {
   "cell_type": "code",
   "execution_count": null,
   "metadata": {
    "scrolled": false
   },
   "outputs": [],
   "source": [
    "date.strftime('%B %d %Y %I:%M%p')"
   ]
  },
  {
   "cell_type": "code",
   "execution_count": null,
   "metadata": {},
   "outputs": [],
   "source": [
    "datetime.now().strftime('%Y-%m-01')"
   ]
  },
  {
   "cell_type": "code",
   "execution_count": null,
   "metadata": {},
   "outputs": [],
   "source": [
    "# как получить первый день месяца\n",
    "\n",
    "date.strftime('%Y-%m-01')"
   ]
  },
  {
   "cell_type": "code",
   "execution_count": null,
   "metadata": {},
   "outputs": [],
   "source": [
    "start_date = '2018-01-01'\n",
    "end_date = '2018-01-07'"
   ]
  },
  {
   "cell_type": "code",
   "execution_count": null,
   "metadata": {},
   "outputs": [],
   "source": [
    "start_date, end_date"
   ]
  },
  {
   "cell_type": "code",
   "execution_count": null,
   "metadata": {},
   "outputs": [],
   "source": [
    "start_date_dt = datetime.strptime(start_date, '%Y-%m-%d')\n",
    "end_date_dt = datetime.strptime(end_date, '%Y-%m-%d')\n",
    "\n",
    "print(start_date_dt, end_date_dt)"
   ]
  },
  {
   "cell_type": "code",
   "execution_count": null,
   "metadata": {},
   "outputs": [],
   "source": [
    "i = 0\n",
    "\n",
    "while i < 10:\n",
    "    # ...\n",
    "    i += 1\n",
    "    print(i)"
   ]
  },
  {
   "cell_type": "code",
   "execution_count": null,
   "metadata": {
    "scrolled": true
   },
   "outputs": [],
   "source": [
    "current_dt = start_date_dt\n",
    "\n",
    "while current_dt <= end_date_dt:\n",
    "    print(current_dt.strftime('%Y-%m-%d'))\n",
    "    \n",
    "    current_dt += timedelta(days=1)"
   ]
  },
  {
   "cell_type": "code",
   "execution_count": null,
   "metadata": {},
   "outputs": [],
   "source": [
    "current_dt = start_date_dt\n",
    "\n",
    "while current_dt.strftime('%Y-%m-%d') <= end_date:\n",
    "    print(current_dt.strftime('%Y-%m-%d'))\n",
    "    \n",
    "    current_dt += timedelta(days=1)"
   ]
  },
  {
   "cell_type": "code",
   "execution_count": null,
   "metadata": {},
   "outputs": [],
   "source": [
    "# можно и с помощью list comprehension\n",
    "[(start_date_dt + timedelta(days=x)).strftime('%Y-%m-%d') for x in range(10)]"
   ]
  },
  {
   "cell_type": "markdown",
   "metadata": {},
   "source": [
    "### Нагрузка на систему по часам"
   ]
  },
  {
   "cell_type": "code",
   "execution_count": null,
   "metadata": {},
   "outputs": [],
   "source": [
    "stats = {}\n",
    "\n",
    "with open('logs.csv', 'r') as f:\n",
    "    for line in f:\n",
    "        line = line.strip()\n",
    "        print(line)\n",
    "        \n",
    "        break\n",
    "        \n",
    "        # вычисления нагрузки на систему...\n",
    "        \n",
    "# результат\n",
    "stats"
   ]
  },
  {
   "cell_type": "code",
   "execution_count": null,
   "metadata": {},
   "outputs": [],
   "source": [
    "# а в процентном соотношении?\n"
   ]
  },
  {
   "cell_type": "code",
   "execution_count": null,
   "metadata": {},
   "outputs": [],
   "source": []
  },
  {
   "cell_type": "code",
   "execution_count": null,
   "metadata": {},
   "outputs": [],
   "source": []
  },
  {
   "cell_type": "code",
   "execution_count": null,
   "metadata": {},
   "outputs": [],
   "source": []
  },
  {
   "cell_type": "markdown",
   "metadata": {},
   "source": [
    "###  Unixtime\n",
    "Количество секунд, прошедших с 1 января 1970 года по UTC"
   ]
  },
  {
   "cell_type": "code",
   "execution_count": null,
   "metadata": {},
   "outputs": [],
   "source": [
    "import time\n",
    "from datetime import date\n",
    "from datetime import datetime"
   ]
  },
  {
   "cell_type": "code",
   "execution_count": null,
   "metadata": {},
   "outputs": [],
   "source": [
    "d = date(2019, 3, 11)\n",
    "\n",
    "unixtime = time.mktime(d.timetuple())\n",
    "unixtime"
   ]
  },
  {
   "cell_type": "code",
   "execution_count": null,
   "metadata": {},
   "outputs": [],
   "source": [
    "from datetime import datetime"
   ]
  },
  {
   "cell_type": "code",
   "execution_count": null,
   "metadata": {},
   "outputs": [],
   "source": [
    "datetime.fromtimestamp(1552251600)"
   ]
  },
  {
   "cell_type": "markdown",
   "metadata": {},
   "source": [
    "На практике все сложнее https://habr.com/ru/post/452584/"
   ]
  }
 ],
 "metadata": {
  "kernelspec": {
   "display_name": "Python 3",
   "language": "python",
   "name": "python3"
  },
  "language_info": {
   "codemirror_mode": {
    "name": "ipython",
    "version": 3
   },
   "file_extension": ".py",
   "mimetype": "text/x-python",
   "name": "python",
   "nbconvert_exporter": "python",
   "pygments_lexer": "ipython3",
   "version": "3.8.5"
  }
 },
 "nbformat": 4,
 "nbformat_minor": 2
}
