{
 "cells": [
  {
   "cell_type": "markdown",
   "metadata": {},
   "source": [
    "### Задание 1\n",
    "Напишите функцию, которая принимает на вход строку и проверяет является ли она валидным транспортным номером (1 буква, 3 цифры, 2 буквы, 2-3 цифры). Обратите внимание, что не все буквы кириллического алфавита используются в транспортных номерах.\n",
    "\n",
    "Если номер валиден, то функция должна возвращать отдельно номер и регион.\n",
    "\n",
    "Примеры работы программы:\n",
    "\n",
    "car_id = 'A222BC96'\n",
    "Результат: Номер A222BС валиден. Регион: 96\n",
    "\n",
    "car_id = 'АБ22ВВ193'\n",
    "Результат: Номер не валиден"
   ]
  },
  {
   "cell_type": "code",
   "execution_count": 185,
   "metadata": {},
   "outputs": [
    {
     "name": "stdout",
     "output_type": "stream",
     "text": [
      "Введите номер авто: а567ку77\n",
      "Номер  а567ку валиден. Регион:  77\n"
     ]
    }
   ],
   "source": [
    "def check_auto(car_id):\n",
    "    import re\n",
    "    car_id_check = re.search(r'[авекмнорстух]\\d{3}[авекмнорстух]{2}\\d{2,3}',car_id,flags = re.I)\n",
    "    if car_id_check:\n",
    "        print('Номер ',car_id_check[0][0:6],'валиден. Регион: ',car_id_check[0][6:])\n",
    "    else: print('Номер не валиден')\n",
    "\n",
    "        \n",
    "a = 0\n",
    "while a < 8 or a > 9:\n",
    "    car_id = input('Введите номер авто: ')\n",
    "    a = len(car_id)\n",
    "    if a > 9 or a < 8:\n",
    "        print('Введенный перечень символов не соответствует длине номера авто. Введите номер еще раз.')\n",
    "check_auto(car_id)\n"
   ]
  },
  {
   "cell_type": "markdown",
   "metadata": {},
   "source": [
    "### Задание 2\n",
    "Напишите функцию, которая будет удалять все последовательные повторы слов из заданной строки при помощи регулярных выражений.\n",
    "\n",
    "Пример работы программы:\n",
    "\n",
    "some_string = 'Напишите функцию функцию, которая будет будет будет будет удалять все все все все последовательные повторы слов из из из из заданной строки строки при помощи регулярных выражений.'\n",
    "\n",
    "Результат:\n",
    "Напишите функцию, которая будет удалять все последовательные повторы слов из заданной строки при помощи регулярных выражений."
   ]
  },
  {
   "cell_type": "code",
   "execution_count": 192,
   "metadata": {},
   "outputs": [
    {
     "data": {
      "text/plain": [
       "'Напишите функцию, которая будет удалять все последовательные повторы слов из заданной строки при помощи регулярных выражений.'"
      ]
     },
     "execution_count": 192,
     "metadata": {},
     "output_type": "execute_result"
    }
   ],
   "source": [
    "def string_change(some_string):\n",
    "    import re\n",
    "    some_string = re.sub(r'(\\w+)(\\s+\\1)+', r'\\1', some_string, flags = re.I)\n",
    "    return some_string\n",
    "\n",
    "some_string1 = 'Напишите функцию функцию, которая будет Будет будет Будет удалять все все Все все последовательные повторы слов из из из из заданной строки строки при помощи регулярных выражений.'\n",
    "string_change(some_string1)"
   ]
  },
  {
   "cell_type": "markdown",
   "metadata": {},
   "source": [
    "### Задание 3\n",
    "Напишите функцию, которая будет возвращать акроним по переданной в нее строке со словами.\n",
    "\n",
    "Примеры работы программы:\n",
    "\n",
    "some_words = 'Информационные технологии'\n",
    "Результат: ИТ\n",
    "\n",
    "some_words = 'Near Field Communication'\n",
    "Результат: NFC"
   ]
  },
  {
   "cell_type": "code",
   "execution_count": 290,
   "metadata": {},
   "outputs": [
    {
     "data": {
      "text/plain": [
       "'NFC'"
      ]
     },
     "execution_count": 290,
     "metadata": {},
     "output_type": "execute_result"
    }
   ],
   "source": [
    "def acronym(some_name):\n",
    "    import re\n",
    "    nym = str()\n",
    "    for i in re.findall(r'\\b\\w', some_name):\n",
    "        nym += i.capitalize()\n",
    "    return nym\n",
    "\n",
    "some_string = 'Near Field Communication'\n",
    "acronym(some_string)\n",
    "                 "
   ]
  },
  {
   "cell_type": "markdown",
   "metadata": {},
   "source": [
    "### Задание 4\n",
    "Напишите функцию, которая будет принимать на вход список email-адресов и выводить их распределение по доменным зонам.\n",
    "\n",
    "Пример работы программы:\n",
    "\n",
    "emails = ['test@gmail.com', 'xyz@test.in', 'test@ya.ru', 'xyz@mail.ru', 'xyz@ya.ru', 'xyz@gmail.com']\n",
    "\n",
    "Результат:\n",
    "\n",
    "gmail.com: 2\n",
    "test.in: 1 \n",
    "ya.ru: 2 \n",
    "mail.ru: 1"
   ]
  },
  {
   "cell_type": "code",
   "execution_count": 116,
   "metadata": {},
   "outputs": [
    {
     "data": {
      "text/plain": [
       "{'gmail.com': 2, 'test.in': 1, 'ya.ru': 2, 'mail.ru': 1}"
      ]
     },
     "execution_count": 116,
     "metadata": {},
     "output_type": "execute_result"
    }
   ],
   "source": [
    "def mails_stat(emails):\n",
    "    import re\n",
    "    domen_stat = {}\n",
    "    for i in emails:\n",
    "        domen = re.split(r'@',i)[1]\n",
    "        domen_stat[domen] = domen_stat.setdefault(domen, 0) + 1\n",
    "    return domen_stat\n",
    "        \n",
    "emails = ['test@gmail.com', 'xyz@test.in', 'test@ya.ru', 'xyz@mail.ru', 'xyz@ya.ru', 'xyz@gmail.com']\n",
    "mails_stat(emails)\n"
   ]
  },
  {
   "cell_type": "markdown",
   "metadata": {},
   "source": [
    "### Задание 5 (необязательное)\n",
    "Напишите функцию, которая будет подсчитывать сколько слов начинается на гласные, а сколько на согласные буквы в тексте (текст может быть написан как с использованием букв кириллицы, так и латиницы).\n",
    "\n",
    "Пример работы программы:\n",
    "\n",
    "some_text = 'Эталонной реализацией Python является интерпретатор CPython, поддерживающий большинство активно используемых платформ. Он распространяется под свободной лицензией Python Software Foundation License, позволяющей использовать его без ограничений в любых приложениях, включая проприетарные.'\n",
    "\n",
    "Результат:\n",
    "\n",
    "Слов на гласные буквы: 9\n",
    "Слов на согласные буквы: 21 "
   ]
  },
  {
   "cell_type": "code",
   "execution_count": 191,
   "metadata": {},
   "outputs": [
    {
     "data": {
      "text/plain": [
       "'Слов на гласные буквы: 9; Слов на согласные буквы: 21'"
      ]
     },
     "execution_count": 191,
     "metadata": {},
     "output_type": "execute_result"
    }
   ],
   "source": [
    "def word_count(some_text):\n",
    "    import re\n",
    "    vowels = re.findall(r'\\b[аеёиоуыэюяaeiouy]\\w*\\b', some_text, flags = re.I)\n",
    "    consonant = re.findall(r'\\b[^\\s+аеёиоуыэюяaeiouy]\\w*\\b', some_text, flags = re.I)\n",
    "    return f'Слов на гласные буквы: {len(vowels)}; Слов на согласные буквы: {len(consonant)}'\n",
    "\n",
    "some_text = 'Эталонной реализацией Python является интерпретатор CPython, поддерживающий большинство активно используемых платформ. Он распространяется под свободной лицензией Python Software Foundation License, позволяющей использовать его без ограничений в любых приложениях, включая проприетарные.'\n",
    "word_count(some_text)"
   ]
  },
  {
   "cell_type": "markdown",
   "metadata": {},
   "source": [
    "### Задание 6 (необязательное)\n",
    "Напишите функцию, которая будет проверять номер сотового телефона на валидность (только для российского формата), если он валиден, то переводить его в формат:\n",
    "+7-xxx-xxx-xx-xx\n",
    "Постарайтесь предусмотреть как можно больше адекватных форматов изначального ввода номера. Примеры работы программы:\n",
    "\n",
    "phone = '+7 955 555-55-55'\n",
    "Результат: +7-950-555-55-55\n",
    "\n",
    "phone = '8(955)555-55-55'\n",
    "Результат: +7-950-555-55-55\n",
    "\n",
    "phone = '+7 955 555 55 55'\n",
    "Результат: +7-950-555-55-55\n",
    "\n",
    "phone = '7(955) 555-55-55'\n",
    "Результат: +7-950-555-55-55\n",
    "\n",
    "phone = '423-555-55-5555'\n",
    "Результат: Номер не валиден\n",
    "\n",
    "phone = '123-456-789'\n",
    "Результат: Номер не валиден"
   ]
  },
  {
   "cell_type": "code",
   "execution_count": 286,
   "metadata": {},
   "outputs": [
    {
     "name": "stdout",
     "output_type": "stream",
     "text": [
      "423-555-55-5555\n",
      "Номер не валиден\n"
     ]
    }
   ],
   "source": [
    "def phone_chek(tel):\n",
    "    import re\n",
    "    tel2 = re.search(r'\\b[+]?(7|8)[\\s(-]{,2}(9\\d{2})[ -)]{,2}(\\d{3})[ -]?(\\d{2})[ -]?(\\d{2})\\b', tel)\n",
    "    if tel2:\n",
    "        print(f'Номер валиден: +7-{tel2.group(2)}-{tel2.group(3)}-{tel2.group(4)}-{tel2.group(5)}')\n",
    "    else:\n",
    "        print('Номер не валиден')\n",
    "        \n",
    "\n",
    "tel = input()\n",
    "phone_chek(tel)\n",
    "\n",
    "\n",
    "\n"
   ]
  }
 ],
 "metadata": {
  "kernelspec": {
   "display_name": "Python 3",
   "language": "python",
   "name": "python3"
  },
  "language_info": {
   "codemirror_mode": {
    "name": "ipython",
    "version": 3
   },
   "file_extension": ".py",
   "mimetype": "text/x-python",
   "name": "python",
   "nbconvert_exporter": "python",
   "pygments_lexer": "ipython3",
   "version": "3.8.5"
  }
 },
 "nbformat": 4,
 "nbformat_minor": 4
}
