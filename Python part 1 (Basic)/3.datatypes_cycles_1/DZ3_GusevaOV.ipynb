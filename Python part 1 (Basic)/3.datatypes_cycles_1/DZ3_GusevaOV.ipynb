{
 "cells": [
  {
   "cell_type": "markdown",
   "metadata": {},
   "source": [
    "### Задание 1.\n",
    "Дана переменная, в которой хранится слово из латинских букв. Напишите код, который выводит на экран:\n",
    "- среднюю букву, если число букв в слове нечетное;\n",
    "- две средних буквы, если число букв четное."
   ]
  },
  {
   "cell_type": "code",
   "execution_count": 13,
   "metadata": {},
   "outputs": [
    {
     "name": "stdout",
     "output_type": "stream",
     "text": [
      "Введите слово: ФОРЫВПРфоычОтяОРЧыолырФЫв\n",
      "т\n"
     ]
    }
   ],
   "source": [
    "word = input ('Введите слово: ')\n",
    "if len(word) % 2 == 0:\n",
    "    print(word[int (len(word) / 2) - 1:int (len(word) / 2) + 1])\n",
    "else:\n",
    "    print(word[int (len(word) / 2)])"
   ]
  },
  {
   "cell_type": "markdown",
   "metadata": {},
   "source": [
    "### Задание 2\n",
    "Напишите программу, которая последовательно запрашивает у пользователя числа (по одному за раз) и после первого нуля выводит сумму всех ранее введенных чисел."
   ]
  },
  {
   "cell_type": "code",
   "execution_count": 18,
   "metadata": {},
   "outputs": [
    {
     "name": "stdout",
     "output_type": "stream",
     "text": [
      "Введите число: 0\n",
      "Итоговая сумма введенных чисел:  0\n"
     ]
    }
   ],
   "source": [
    "number = int(input('Введите число: '))\n",
    "Summ = number\n",
    "while number != 0:\n",
    "    number = int(input('Введите ещё число: '))\n",
    "    Summ = Summ + number\n",
    "print('Итоговая сумма введенных чисел: ', Summ)\n"
   ]
  },
  {
   "cell_type": "markdown",
   "metadata": {},
   "source": [
    "### Задание 3\n",
    "\n",
    "Мы делаем MVP dating-сервиса, и у нас есть список парней и девушек.\n",
    "Выдвигаем гипотезу: лучшие рекомендации мы получим, если просто отсортируем имена по алфавиту и познакомим людей с одинаковыми индексами после сортировки! Но мы не будем никого знакомить, если кто-то может остаться без пары:"
   ]
  },
  {
   "cell_type": "code",
   "execution_count": 37,
   "metadata": {},
   "outputs": [
    {
     "name": "stdout",
     "output_type": "stream",
     "text": [
      "Идеальные пары:\n",
      "Alex и Emma\n",
      "Arthur и Kate\n",
      "John и Kira\n",
      "Peter и Liza\n",
      "Richard и Trisha\n"
     ]
    }
   ],
   "source": [
    "boys = ['Peter', 'Alex', 'John', 'Arthur', 'Richard']\n",
    "girls = ['Kate', 'Liza', 'Kira', 'Emma', 'Trisha']\n",
    "count = 0\n",
    "if len(boys) != len(girls):\n",
    "    print('Внимание, кто-то может остаться без пары!')\n",
    "else:\n",
    "    boys = sorted(boys)\n",
    "    girls = sorted(girls)\n",
    "    print('Идеальные пары:')\n",
    "    while count < len(boys):\n",
    "        print(f'{boys[count]} и {girls[count]}')\n",
    "        count += 1"
   ]
  },
  {
   "cell_type": "markdown",
   "metadata": {},
   "source": [
    "### Задание 4\n",
    "\n",
    "У нас есть список, содержащий информацию о среднедневной температуре в Фаренгейтах за произвольный период по странам (структура данных в примере).\n",
    "Необходимо написать код, который рассчитает среднюю температуру за период в Цельсиях(!) для каждой страны."
   ]
  },
  {
   "cell_type": "code",
   "execution_count": 67,
   "metadata": {},
   "outputs": [
    {
     "name": "stdout",
     "output_type": "stream",
     "text": [
      "Thailand  -  23.9 C\n",
      "Germany  -  13.8 C\n",
      "Russia  -  3.7 C\n",
      "Poland  -  12.0 C\n"
     ]
    }
   ],
   "source": [
    "countries_temperature = [\n",
    "    ['Thailand', [75.2, 77, 78.8, 73.4, 68, 75.2, 77]],\n",
    "    ['Germany', [57.2, 55.4, 59, 59, 53.6]],\n",
    "    ['Russia', [35.6, 37.4, 39.2, 41, 42.8, 39.2, 35.6]],\n",
    "    ['Poland', [50, 50, 53.6, 57.2, 55.4, 55.4]]\n",
    "]\n",
    "count = 0\n",
    "while count < len(countries_temperature):\n",
    "    print(countries_temperature[count][0],' - ',round(5/9 * (sum(countries_temperature[count][1]) / len(countries_temperature[count][1]) - 32),1),'C')\n",
    "    count +=1"
   ]
  },
  {
   "cell_type": "markdown",
   "metadata": {},
   "source": [
    "### Задание 5 (необязательное)\n",
    "\n",
    "Дан поток логов по количеству просмотренных страниц для каждого пользователя. Вам необходимо написать алгоритм, который считает среднее значение просмотров на пользователя. \n",
    "Т. е. надо посчитать отношение суммы всех просмотров к количеству уникальных пользователей."
   ]
  },
  {
   "cell_type": "code",
   "execution_count": 111,
   "metadata": {},
   "outputs": [
    {
     "name": "stdout",
     "output_type": "stream",
     "text": [
      "Среднее значение просмотров на пользователя составляет: 145.33\n"
     ]
    }
   ],
   "source": [
    "stream = [\n",
    "    '2018-01-01,user100,150',\n",
    "    '2018-01-07,user99,205',\n",
    "    '2018-03-29,user1001,81'\n",
    "]\n",
    "for count in range(len(stream)):                        #перевожу все элементы списка из строковых значений во вложенные списки\n",
    "    stream[count] = stream[count].split(',')\n",
    "list_of_users = []                                      #создаю новый список, чтобы в него добавить все значения user с индексом 1 вложенных списков списка stream\n",
    "total_browse = 0                                        #в этом значении будет подсчиатана сумма всех количеств просмотров по всем пользователям\n",
    "for count in range(len(stream)):\n",
    "    list_of_users.append(stream[count][1])              #формирую список знаяений user\n",
    "    total_browse = total_browse + int(stream[count][2]) #считаю итоговую сумму всех просмотров              \n",
    "print(f'Среднее значение просмотров на пользователя составляет: {round(total_browse / len(set(list_of_users)), 2)}')\n",
    "\n",
    "users_list = []\n",
    "views = 0\n",
    " \n",
    "for el in stream:\n",
    "  splitted_el = el.split(',')\n",
    "  if splitted_el[1] not in users_list:\n",
    "    users_list.append(splitted_el[1])\n",
    "  views += int(splitted_el[2])\n",
    "print(f'Среднее количество просмотров на уникального пользователя: {views/len(users_list)}')"
   ]
  },
  {
   "cell_type": "markdown",
   "metadata": {},
   "source": [
    "### Задание 6 (необязательное)\n",
    "\n",
    "Необходимо у пользователя запрашивать набор чисел разделенных пробелом. В результате в отсортированном порядке должны выводиться числа, которые повторяются в вводе более одного раза."
   ]
  },
  {
   "cell_type": "code",
   "execution_count": 147,
   "metadata": {},
   "outputs": [
    {
     "name": "stdout",
     "output_type": "stream",
     "text": [
      "Введите числа через пробел: 10 15 15 103 200 200 200 1 1 1 1 1 2 2 2\n",
      "В воде повторяются более одного раза числа:  1 2 15 200\n"
     ]
    }
   ],
   "source": [
    "numbers = input('Введите числа через пробел: ') #ввожу значения\n",
    "numbers = numbers.split()                       #перевожу строку в тип списка\n",
    "numbers = [int(el) for el in numbers]           #перевожу элементы списка в тип int\n",
    "num2 = []                                       #создаю новый пустой список, в который буду накапливать повторяющиеся числа\n",
    "for el in set(numbers):\n",
    "    if numbers.count(el) >1:\n",
    "        num2.append(el)\n",
    "print('В воде повторяются более одного раза числа: ', *sorted(num2))"
   ]
  }
 ],
 "metadata": {
  "kernelspec": {
   "display_name": "Python 3",
   "language": "python",
   "name": "python3"
  },
  "language_info": {
   "codemirror_mode": {
    "name": "ipython",
    "version": 3
   },
   "file_extension": ".py",
   "mimetype": "text/x-python",
   "name": "python",
   "nbconvert_exporter": "python",
   "pygments_lexer": "ipython3",
   "version": "3.8.5"
  }
 },
 "nbformat": 4,
 "nbformat_minor": 4
}
