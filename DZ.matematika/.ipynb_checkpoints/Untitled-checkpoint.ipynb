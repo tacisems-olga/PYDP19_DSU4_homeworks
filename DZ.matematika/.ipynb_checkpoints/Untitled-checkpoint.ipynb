{
 "cells": [
  {
   "cell_type": "markdown",
   "metadata": {},
   "source": [
    "### Домашнее задание \"Линейная алгебра. Векторы\".\n",
    "Даны вектора x = (1,1), y = (2, 0) и z = (0,2). Надо:   \n",
    "Изобразить вектора на экране.   \n",
    "Изобразить точку x + y + z.   \n",
    "Найти угол между векторами x и y."
   ]
  },
  {
   "cell_type": "code",
   "execution_count": 26,
   "metadata": {},
   "outputs": [],
   "source": [
    "import numpy as np\n",
    "import matplotlib.pyplot as plt\n",
    "from pylab import rcParams\n",
    "rcParams['figure.figsize'] = 10,10"
   ]
  },
  {
   "cell_type": "code",
   "execution_count": 76,
   "metadata": {},
   "outputs": [
    {
     "name": "stdout",
     "output_type": "stream",
     "text": [
      "Значение угла между векторами X и Y в радианах - 0.7853981633974484; в градусах - 45.00000000000001\n"
     ]
    },
    {
     "data": {
      "image/png": "[encoded data removed]",
      "text/plain": [
       "<Figure size 720x720 with 1 Axes>"
      ]
     },
     "metadata": {
      "needs_background": "light"
     },
     "output_type": "display_data"
    }
   ],
   "source": [
    "x = np.array([1,1])\n",
    "y = np.array([2,0])\n",
    "z = np.array([0,2])\n",
    "plt.plot(x[0],x[1], 'o')\n",
    "plt.annotate('X', (1,1), xytext=(1.03, 1.03)) # Подпись вектора Х\n",
    "plt.plot(y[0],y[1], 'o')\n",
    "plt.annotate('Y', (2,0), xytext=(2.03, 0.03)) # Подпись вектора Х\n",
    "plt.plot(z[0],z[1], 'o')\n",
    "plt.annotate('Z', (0,2), xytext=(0.03, 2.03)) # Подпись вектора Х\n",
    "plt.plot(x[0]+y[0]+z[0],x[1]+y[1]+z[1], 'o') \n",
    "plt.annotate('X+Y+Z', (x[0]+y[0]+z[0],x[1]+y[1]+z[1]),xytext=(x[0]+y[0]+z[0]-0.1, x[1]+y[1]+z[1]-0.1)) # Подпись вектора Х+Y+Z\n",
    "u = np.arccos((np.dot(x,y))/(np.linalg.norm(x)*np.linalg.norm(y))) #значение угла в радианах\n",
    "print(f'Значение угла между векторами X и Y в радианах - {u}; в градусах - {np.rad2deg(u)}')\n",
    "plt.grid()\n",
    "plt.show()"
   ]
  },
  {
   "cell_type": "code",
   "execution_count": null,
   "metadata": {},
   "outputs": [],
   "source": []
  },
  {
   "cell_type": "code",
   "execution_count": null,
   "metadata": {},
   "outputs": [],
   "source": []
  },
  {
   "cell_type": "code",
   "execution_count": null,
   "metadata": {},
   "outputs": [],
   "source": []
  }
 ],
 "metadata": {
  "kernelspec": {
   "display_name": "Python 3",
   "language": "python",
   "name": "python3"
  },
  "language_info": {
   "codemirror_mode": {
    "name": "ipython",
    "version": 3
   },
   "file_extension": ".py",
   "mimetype": "text/x-python",
   "name": "python",
   "nbconvert_exporter": "python",
   "pygments_lexer": "ipython3",
   "version": "3.8.5"
  }
 },
 "nbformat": 4,
 "nbformat_minor": 4
}
