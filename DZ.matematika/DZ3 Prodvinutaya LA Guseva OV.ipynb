{
 "cells": [
  {
   "cell_type": "markdown",
   "metadata": {},
   "source": [
    "## Домашнее задание \"Продвинутая линейная алгебра\".   \n",
    "### Уровень 0.   \n",
    "Придумайте матрицы, которые обладают следующими свойствами:\n",
    "\n",
    "a) Диагональная, ортогональная, но не единичная(!)\n",
    "\n",
    "b) Верхнетреугольная, ортогональная\n",
    "\n",
    "c) Нижнетреугольная, ортогональная\n",
    "\n",
    "d) Матрица, у которой определитель = 1, и все элементы не равны 0\n",
    "\n",
    "P.S. Во всех пунктах ответом должна быть ненулевая матрица размерности не менее 2!\n",
    "\n",
    "e) Найдите собственные значения и собственные вектора матриц:\n",
    "\n",
    "m = np.array([[2, 2],\n",
    "              [1, 3]])"
   ]
  },
  {
   "cell_type": "code",
   "execution_count": 67,
   "metadata": {},
   "outputs": [],
   "source": [
    "import numpy as np"
   ]
  },
  {
   "cell_type": "code",
   "execution_count": 19,
   "metadata": {},
   "outputs": [
    {
     "name": "stdout",
     "output_type": "stream",
     "text": [
      "[[-1.  0.  0.]\n",
      " [ 0. -1.  0.]\n",
      " [ 0.  0.  1.]]\n",
      "\n"
     ]
    },
    {
     "data": {
      "text/plain": [
       "array([[1., 0., 0.],\n",
       "       [0., 1., 0.],\n",
       "       [0., 0., 1.]])"
      ]
     },
     "execution_count": 19,
     "metadata": {},
     "output_type": "execute_result"
    }
   ],
   "source": [
    "# a) Диагональная, ортогональная, но не единичная(!)\n",
    "# \n",
    "a = np.diag(np.diag([[np.cos(np.pi),0,0],\n",
    "                     [0,np.sin(3*np.pi/2),0],\n",
    "                     [0,0,np.tan(np.pi/4)]]))\n",
    "print(a)\n",
    "print()\n",
    "# Проверка на ортогональность\n",
    "a@a.T\n"
   ]
  },
  {
   "cell_type": "code",
   "execution_count": 25,
   "metadata": {},
   "outputs": [
    {
     "name": "stdout",
     "output_type": "stream",
     "text": [
      "[[-1.0000000e+00  1.2246468e-16  6.1232340e-17]\n",
      " [ 0.0000000e+00 -1.0000000e+00  6.1232340e-17]\n",
      " [ 0.0000000e+00  0.0000000e+00  1.0000000e+00]]\n",
      "[[-1.0000000e+00  0.0000000e+00  0.0000000e+00]\n",
      " [ 1.2246468e-16 -1.0000000e+00  0.0000000e+00]\n",
      " [ 6.1232340e-17  6.1232340e-17  1.0000000e+00]]\n"
     ]
    },
    {
     "data": {
      "text/plain": [
       "array([[ 1.0000000e+00, -1.2246468e-16, -6.1232340e-17],\n",
       "       [-1.2246468e-16,  1.0000000e+00, -6.1232340e-17],\n",
       "       [-6.1232340e-17, -6.1232340e-17,  1.0000000e+00]])"
      ]
     },
     "execution_count": 25,
     "metadata": {},
     "output_type": "execute_result"
    }
   ],
   "source": [
    "# b) Верхнетреугольная, ортогональная\n",
    "a = np.array([[np.cos(np.pi), np.sin(np.pi), np.cos(np.pi/2)],\n",
    "              [0, -np.sin(np.pi/2), np.cos(np.pi/2)],\n",
    "              [0, 0, np.sin(np.pi/2)]])         \n",
    "print(a)\n",
    "print(a.T)\n",
    "#a@a.T\n",
    "a.T@a"
   ]
  },
  {
   "cell_type": "code",
   "execution_count": 29,
   "metadata": {},
   "outputs": [
    {
     "name": "stdout",
     "output_type": "stream",
     "text": [
      "[[ 1.0000000e+00  0.0000000e+00  0.0000000e+00]\n",
      " [ 6.1232340e-17 -1.0000000e+00  0.0000000e+00]\n",
      " [ 1.2246468e-16  6.1232340e-17 -1.0000000e+00]]\n",
      "[[ 1.0000000e+00  6.1232340e-17  1.2246468e-16]\n",
      " [ 0.0000000e+00 -1.0000000e+00  6.1232340e-17]\n",
      " [ 0.0000000e+00  0.0000000e+00 -1.0000000e+00]]\n"
     ]
    },
    {
     "data": {
      "text/plain": [
       "array([[ 1.0000000e+00,  6.1232340e-17,  1.2246468e-16],\n",
       "       [ 6.1232340e-17,  1.0000000e+00, -6.1232340e-17],\n",
       "       [ 1.2246468e-16, -6.1232340e-17,  1.0000000e+00]])"
      ]
     },
     "execution_count": 29,
     "metadata": {},
     "output_type": "execute_result"
    }
   ],
   "source": [
    "# c) Нижнетреугольная, ортогональная\n",
    "\n",
    "a = np.array([[np.sin(np.pi/2), 0, 0],\n",
    "              [np.cos(np.pi/2), -np.sin(np.pi/2), 0],\n",
    "              [np.sin(np.pi), np.cos(np.pi/2), np.cos(np.pi)]])               \n",
    "print(a)\n",
    "print(a.T)\n",
    "a@a.T\n",
    "#a.T@a"
   ]
  },
  {
   "cell_type": "code",
   "execution_count": 31,
   "metadata": {},
   "outputs": [
    {
     "name": "stdout",
     "output_type": "stream",
     "text": [
      "[[4 3]\n",
      " [5 4]]\n",
      "Определитель матрицы А =  1.0000000000000009\n"
     ]
    }
   ],
   "source": [
    "# d) Матрица, у которой определитель = 1, и все элементы не равны 0\n",
    "\n",
    "a = np.array([[4, 3],\n",
    "              [5, 4]])\n",
    "print(a)\n",
    "print('Определитель матрицы А = ', np.linalg.det(a))\n",
    "\n"
   ]
  },
  {
   "cell_type": "code",
   "execution_count": 75,
   "metadata": {},
   "outputs": [
    {
     "name": "stdout",
     "output_type": "stream",
     "text": [
      "[[2 2]\n",
      " [1 3]]\n",
      "[1. 4.]\n",
      "Собственное значение матрицы М -  1.0\n",
      "Соответствующий ему Собственный вектора матрицы М -  [-0.89442719 -0.70710678]\n",
      "Собственное значение матрицы М -  4.0\n",
      "Соответствующий ему Собственный вектора матрицы М -  [ 0.4472136  -0.70710678]\n"
     ]
    }
   ],
   "source": [
    "#e) Найдите собственные значения и собственные вектора матриц:\n",
    "\n",
    "m = np.array([[2, 2], [1, 3]])\n",
    "print(m)\n",
    "\n",
    "u, v = np.linalg.eig(m)\n",
    "for i in range(len(u)):\n",
    "    print('Собственное значение матрицы М - ', u[i])\n",
    "    print('Соответствующий ему Собственный вектора матрицы М - ', v[i])"
   ]
  },
  {
   "cell_type": "code",
   "execution_count": 35,
   "metadata": {},
   "outputs": [
    {
     "name": "stdout",
     "output_type": "stream",
     "text": [
      "[[ 4  1 -1]\n",
      " [ 1  4 -1]\n",
      " [-1 -1  4]]\n",
      "Собственные значения матрицы М -  [6. 3. 3.]\n",
      "Собственные вектора матрицы М -  [[-0.57735027 -0.81649658  0.15430335]\n",
      " [-0.57735027  0.40824829  0.6172134 ]\n",
      " [ 0.57735027 -0.40824829  0.77151675]]\n"
     ]
    }
   ],
   "source": [
    "m = np.array([[4, 1, -1],\n",
    "              [1, 4, -1],\n",
    "              [-1, -1, 4]])\n",
    "print(m)\n",
    "u, v = np.linalg.eig(m)\n",
    "print('Собственные значения матрицы М - ', u)\n",
    "print('Собственные вектора матрицы М - ', v)"
   ]
  },
  {
   "cell_type": "markdown",
   "metadata": {},
   "source": [
    "### Уровень 1.\n",
    "a) Найдите спектральное разложение матрицы:\n",
    "\n",
    "m = np.array([[1, 2],\n",
    "              [2,3]])\n",
    "   \n",
    "b) Постройте зависимость качества восстановления рукописных цифр (MNIST) в зависимости от различного количества компонент PCA. В качестве метрики различия предлагаю использовать MSE.*"
   ]
  },
  {
   "cell_type": "code",
   "execution_count": 66,
   "metadata": {},
   "outputs": [
    {
     "name": "stdout",
     "output_type": "stream",
     "text": [
      "Задана первоначальная матрица \"m\":\n",
      "[[1 2]\n",
      " [2 3]]\n",
      "\n",
      "Диагональная матрица \"d\":\n",
      "[[-0.23606798  0.        ]\n",
      " [ 0.          4.23606798]]\n",
      "\n",
      "Матрица собственных векторов \"v\":\n",
      "[[-0.85065081 -0.52573111]\n",
      " [ 0.52573111 -0.85065081]]\n",
      "\n",
      "Проверка спектрального разложения: v@d@v.T - совпадает с матрицей \"m\"\n"
     ]
    },
    {
     "data": {
      "text/plain": [
       "array([[1., 2.],\n",
       "       [2., 3.]])"
      ]
     },
     "execution_count": 66,
     "metadata": {},
     "output_type": "execute_result"
    }
   ],
   "source": [
    "# a) Найдите спектральное разложение матрицы:\n",
    "# m = s@d@s.T, где\n",
    "# s = это матрица, состоящая из собственных векторов матрицы m,\n",
    "# d - диагональная матрица со значениями в виде собственных значений матрицы m.\n",
    "# Найдем собственные значения и собственные вектора матрицы m и превратим их в необходимые матрицы для спектрального разложения\n",
    "\n",
    "m = np.array([[1, 2], [2,3]])\n",
    "u, v = np.linalg.eig(m) # собств значения и вектора\n",
    "print('Задана первоначальная матрица \"m\":')\n",
    "print(m)\n",
    "d = np.diag(u) # диагональная матрица из собственных значений\n",
    "print('')\n",
    "print('Диагональная матрица \"d\":')\n",
    "print(d)\n",
    "print('')\n",
    "print('Матрица собственных векторов \"v\":')\n",
    "print(v)\n",
    "print('')\n",
    "print('Проверка спектрального разложения: v@d@v.T - совпадает с матрицей \"m\"')\n",
    "v@d@v.T \n",
    "\n",
    "\n"
   ]
  },
  {
   "cell_type": "code",
   "execution_count": null,
   "metadata": {},
   "outputs": [],
   "source": [
    "# b) Постройте зависимость качества восстановления рукописных цифр (MNIST) в зависимости от различного количества компонент PCA.\n",
    "# В качестве метрики различия предлагаю использовать MSE.*\n",
    "\n",
    "# Я до конца не понимаю, как использовать PCA в Pyton. \n",
    "# Поэтому данный пункт ДЗ сделать не могу.\n",
    "# Хотелось бы больше информации увидеть по решению задач-примеров с использованием PCA."
   ]
  },
  {
   "cell_type": "code",
   "execution_count": 2,
   "metadata": {},
   "outputs": [],
   "source": [
    "import numpy as np\n",
    "from matplotlib import pyplot as plt\n",
    "from sklearn.decomposition import PCA\n",
    "from sklearn.datasets import load_digits"
   ]
  },
  {
   "cell_type": "code",
   "execution_count": 5,
   "metadata": {},
   "outputs": [
    {
     "data": {
      "text/plain": [
       "(1797, 64)"
      ]
     },
     "execution_count": 5,
     "metadata": {},
     "output_type": "execute_result"
    }
   ],
   "source": [
    "digits = load_digits()\n",
    "data = digits.data\n",
    "data.shape"
   ]
  },
  {
   "cell_type": "code",
   "execution_count": 6,
   "metadata": {
    "scrolled": true
   },
   "outputs": [
    {
     "data": {
      "text/plain": [
       "Text(0.5, 1.0, 'Original Image')"
      ]
     },
     "execution_count": 6,
     "metadata": {},
     "output_type": "execute_result"
    },
    {
     "data": {
      "image/png": "[encoded data removed]",
      "text/plain": [
       "<Figure size 288x288 with 1 Axes>"
      ]
     },
     "metadata": {
      "needs_background": "light"
     },
     "output_type": "display_data"
    }
   ],
   "source": [
    "image_sample = data[0,:].reshape(8,8)\n",
    "plt.matshow(image_sample)\n",
    "plt.title('Original Image')"
   ]
  },
  {
   "cell_type": "code",
   "execution_count": 3,
   "metadata": {},
   "outputs": [],
   "source": [
    "# Уменьшу кол - во компонент до точности 99%\n",
    "pca = PCA(0.99)"
   ]
  },
  {
   "cell_type": "code",
   "execution_count": 7,
   "metadata": {},
   "outputs": [
    {
     "data": {
      "text/plain": [
       "41"
      ]
     },
     "execution_count": 7,
     "metadata": {},
     "output_type": "execute_result"
    }
   ],
   "source": [
    "data_transform = pca.fit_transform(data)\n",
    "pca.n_components_"
   ]
  },
  {
   "cell_type": "code",
   "execution_count": null,
   "metadata": {},
   "outputs": [],
   "source": [
    "#data_inverted = pca.inverse_transform(data)"
   ]
  },
  {
   "cell_type": "code",
   "execution_count": null,
   "metadata": {},
   "outputs": [],
   "source": []
  },
  {
   "cell_type": "code",
   "execution_count": null,
   "metadata": {},
   "outputs": [],
   "source": []
  },
  {
   "cell_type": "code",
   "execution_count": null,
   "metadata": {},
   "outputs": [],
   "source": []
  },
  {
   "cell_type": "code",
   "execution_count": null,
   "metadata": {},
   "outputs": [],
   "source": []
  },
  {
   "cell_type": "code",
   "execution_count": null,
   "metadata": {},
   "outputs": [],
   "source": []
  },
  {
   "cell_type": "code",
   "execution_count": null,
   "metadata": {},
   "outputs": [],
   "source": []
  },
  {
   "cell_type": "code",
   "execution_count": null,
   "metadata": {},
   "outputs": [],
   "source": []
  },
  {
   "cell_type": "code",
   "execution_count": null,
   "metadata": {},
   "outputs": [],
   "source": []
  },
  {
   "cell_type": "code",
   "execution_count": null,
   "metadata": {},
   "outputs": [],
   "source": []
  },
  {
   "cell_type": "code",
   "execution_count": 160,
   "metadata": {},
   "outputs": [],
   "source": []
  },
  {
   "cell_type": "code",
   "execution_count": null,
   "metadata": {},
   "outputs": [],
   "source": []
  },
  {
   "cell_type": "code",
   "execution_count": null,
   "metadata": {},
   "outputs": [],
   "source": []
  },
  {
   "cell_type": "code",
   "execution_count": null,
   "metadata": {},
   "outputs": [],
   "source": []
  },
  {
   "cell_type": "code",
   "execution_count": null,
   "metadata": {},
   "outputs": [],
   "source": []
  },
  {
   "cell_type": "code",
   "execution_count": null,
   "metadata": {},
   "outputs": [],
   "source": []
  },
  {
   "cell_type": "code",
   "execution_count": null,
   "metadata": {},
   "outputs": [],
   "source": []
  },
  {
   "cell_type": "code",
   "execution_count": null,
   "metadata": {},
   "outputs": [],
   "source": []
  },
  {
   "cell_type": "code",
   "execution_count": null,
   "metadata": {},
   "outputs": [],
   "source": []
  },
  {
   "cell_type": "code",
   "execution_count": null,
   "metadata": {},
   "outputs": [],
   "source": []
  },
  {
   "cell_type": "code",
   "execution_count": null,
   "metadata": {},
   "outputs": [],
   "source": []
  }
 ],
 "metadata": {
  "kernelspec": {
   "display_name": "Python 3",
   "language": "python",
   "name": "python3"
  },
  "language_info": {
   "codemirror_mode": {
    "name": "ipython",
    "version": 3
   },
   "file_extension": ".py",
   "mimetype": "text/x-python",
   "name": "python",
   "nbconvert_exporter": "python",
   "pygments_lexer": "ipython3",
   "version": "3.8.5"
  }
 },
 "nbformat": 4,
 "nbformat_minor": 4
}
