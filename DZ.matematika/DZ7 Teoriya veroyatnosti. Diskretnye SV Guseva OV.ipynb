{
 "cells": [
  {
   "cell_type": "code",
   "execution_count": 177,
   "metadata": {},
   "outputs": [],
   "source": [
    "import random\n",
    "import pandas as pd\n",
    "import numpy as np\n",
    "import math\n",
    "import matplotlib.pyplot as plt\n",
    "from scipy.stats import *\n",
    "import scipy.stats as sps\n",
    "import statistics\n",
    "\n",
    "#увеличим дефолтный размер графиков\n",
    "from pylab import rcParams\n",
    "rcParams['figure.figsize'] = 18,8"
   ]
  },
  {
   "cell_type": "markdown",
   "metadata": {},
   "source": [
    "#### Задание 1:\n",
    "Монетку подбрасывают 15 раз, найдите вероятность выпадения простого числа орлов."
   ]
  },
  {
   "cell_type": "code",
   "execution_count": 47,
   "metadata": {},
   "outputs": [
    {
     "name": "stdout",
     "output_type": "stream",
     "text": [
      "Вероятность выпадения простого числа орлов при подбрасывании монетки 15 раз - 0.3499755859375\n"
     ]
    }
   ],
   "source": [
    "p = 1/2 # вероятность наступления события при 1 испытании\n",
    "n = 15 # кол-во всего испытаний\n",
    "k = [2, 3, 5, 7, 11, 13] # кол-во требуемых выпадений орла (простые числа до 15)\n",
    "P = 0 # задала итоговую вероятность\n",
    "for i in k:\n",
    "    C = math.factorial(n)/(math.factorial(i)*math.factorial(n-i))\n",
    "    P = P + C*(p**i)*((1-p)**(n-i))\n",
    "print(f'Вероятность выпадения простого числа орлов при подбрасывании монетки 15 раз - {P}')"
   ]
  },
  {
   "cell_type": "markdown",
   "metadata": {},
   "source": [
    "#### Задание 2:\n",
    "Создайте свою дискретную случайную величину с не менее, чем 10 значениями. Просемплируйте 1000 случайных значений, постройте гистограмму плотности распределения по выборке, посчитайте среднее, дисперсию и медиану."
   ]
  },
  {
   "cell_type": "code",
   "execution_count": 179,
   "metadata": {},
   "outputs": [
    {
     "name": "stdout",
     "output_type": "stream",
     "text": [
      "Среднее значение - 7.988, значение дисперсии - 19.257856, Значение медианы - 8.0\n"
     ]
    },
    {
     "data": {
      "image/png": "[encoded data removed]",
      "text/plain": [
       "<Figure size 1296x576 with 1 Axes>"
      ]
     },
     "metadata": {
      "needs_background": "light"
     },
     "output_type": "display_data"
    }
   ],
   "source": [
    "#x1 = list(set([np.random.randint(1,20) for _ in range(20)])) # создала дискретную величину cо значениями до 20\n",
    "\n",
    "x1 = [1, 2, 3, 4, 5, 6, 7, 8, 9, 10, 11, 12, 13, 14, 15]     # создала дискретную величину с 15 значениями\n",
    "x2 = np.random.choice(x1, size=1000, replace=True)           # создали массив значений 1000 испытаний выбора числа из перечисленных в x1\n",
    "p = 1/len(x1)                                                # вероятность наступления события при 1 испытании (вероятность выбора числа из перечня в х1)\n",
    "mean_x2 = x2.mean()\n",
    "var_x2 = x2.var()\n",
    "median_x2 = statistics.median(x2)\n",
    "print(f'Среднее значение - {mean_x2}, значение дисперсии - {var_x2}, Значение медианы - {median_x2}')\n",
    "plt.hist(x2, bins=30, density=True) # Гистограмма выборки\n",
    "plt.grid(ls=':')\n",
    "plt.show()\n",
    "\n"
   ]
  },
  {
   "cell_type": "markdown",
   "metadata": {},
   "source": [
    "#### Задание 3:\n",
    "Пусть брошены 3 уравновешенные монеты.\n",
    "\n",
    "Рассмотрим 3 события:\n",
    "\n",
    "A1 - монеты 1 и 2 упали одной и той же стороной;\n",
    "\n",
    "A2 - монеты 2 и 3 упали одной и той же стороной;\n",
    "\n",
    "A3 - монеты 1 и 3 упали одной и той же стороной.\n",
    "\n",
    "Покажите, почему эти 3 события (A1, A2, A3) являются попарно независимыми, но не являются независимыми в совокупности."
   ]
  },
  {
   "cell_type": "code",
   "execution_count": 189,
   "metadata": {},
   "outputs": [],
   "source": [
    "# Посчитаем вероятность наступления каждого из событий. по каждому событию А1, А2 и А3 вероятность = 1/2. \n",
    "PA1 = 2/4\n",
    "PA2 = 2/4\n",
    "PA3 = 2/4\n",
    "\n",
    "# Посчитаем вероятность наступления 2 событий. Вероятность по каждой совокупности событий  = 1/4.\n",
    "# Соответственно в данных случаях будет выполняться условие незивисимости событий попарно, т.к.\n",
    "# для каждой пары А1А2, А2А3, А1А3 выполняется равеноство:P(AB) = P(A)+P(B), а именно 2/8 = 2/4*2/4\n",
    "PA1A2 = 2/8\n",
    "PA1A3 = 2/8\n",
    "PA2A3 = 2/8\n",
    "\n",
    "# Теперь посчитаем вероятность наступления3 событий одновременно,\n",
    "# и она будет равна вероятности наступления любых двух из них событий.\n",
    "# При этом также равенство вида Р(А1А2А3) = Р(А1) + Р(А2) + Р(А3) не выполняется, т.к. 2/8  не равно 1/2*1/2*1/2.\n",
    "PA1A2A3 = 2/8\n",
    "\n",
    "# в связи с выше изложенным мы пришли к выводу:\n",
    "# 3 события (A1, A2, A3) являются попарно независимыми, но не являются независимыми в совокупности.\n"
   ]
  },
  {
   "cell_type": "markdown",
   "metadata": {},
   "source": [
    "#### Задание 4 (формула полной вероятности):\n",
    "В магазин привезли устройства с 3-х разных предприятий.\n",
    "\n",
    "Соотношение устройств следующее: 20% - продукция первого предприятия, 30% - продукция второго предприятия, 50% - продукция третьего предприятия; далее, 10% продукции первого предприятия высшего сорта, на втором предприятии - 5% и на третьем - 20% продукции высшего сорта.\n",
    "\n",
    "Найти вероятность того, что случайно купленная новая продукция окажется высшего сорта."
   ]
  },
  {
   "cell_type": "code",
   "execution_count": 191,
   "metadata": {},
   "outputs": [
    {
     "name": "stdout",
     "output_type": "stream",
     "text": [
      "Вероятность того, что случайно купленная новая продукция окажется высшего сорта - 0.135\n"
     ]
    }
   ],
   "source": [
    "# Пусть А1,А2,А3 - это события выбора предприятия, а В - событие покупки новой продукции\n",
    "PA1 = 20/100 # Нашла вероятность того, что продукция бдет куплена с 1 предприятия\n",
    "PA2 = 30/100 # Нашла вероятность того, что продукция бдет куплена с 2 предприятия\n",
    "PA3 = 50/100 # Нашла вероятность того, что продукция бдет куплена с 3 предприятия\n",
    "\n",
    "PBA1 = 10/100   # Нашла вероятность того, что купленная новая продукция окажется высшего сорта у 1 предприятия\n",
    "PBA2 = 5/100    # Нашла вероятность того, что купленная новая продукция окажется высшего сорта у 2 предприятия\n",
    "PBA3 = 20/100   # Нашла вероятность того, что купленная новая продукция окажется высшего сорта у 3 предприятия\n",
    "\n",
    "PB = PA1*PBA1 + PA2*PBA2 + PA3*PBA3\n",
    "\n",
    "print(f'Вероятность того, что случайно купленная новая продукция окажется высшего сорта - {PB}')"
   ]
  },
  {
   "cell_type": "code",
   "execution_count": null,
   "metadata": {},
   "outputs": [],
   "source": []
  },
  {
   "cell_type": "code",
   "execution_count": null,
   "metadata": {},
   "outputs": [],
   "source": []
  },
  {
   "cell_type": "code",
   "execution_count": null,
   "metadata": {},
   "outputs": [],
   "source": []
  },
  {
   "cell_type": "code",
   "execution_count": null,
   "metadata": {},
   "outputs": [],
   "source": []
  },
  {
   "cell_type": "code",
   "execution_count": null,
   "metadata": {},
   "outputs": [],
   "source": []
  },
  {
   "cell_type": "code",
   "execution_count": null,
   "metadata": {},
   "outputs": [],
   "source": []
  },
  {
   "cell_type": "code",
   "execution_count": null,
   "metadata": {},
   "outputs": [],
   "source": []
  }
 ],
 "metadata": {
  "kernelspec": {
   "display_name": "Python 3",
   "language": "python",
   "name": "python3"
  },
  "language_info": {
   "codemirror_mode": {
    "name": "ipython",
    "version": 3
   },
   "file_extension": ".py",
   "mimetype": "text/x-python",
   "name": "python",
   "nbconvert_exporter": "python",
   "pygments_lexer": "ipython3",
   "version": "3.8.5"
  }
 },
 "nbformat": 4,
 "nbformat_minor": 4
}
