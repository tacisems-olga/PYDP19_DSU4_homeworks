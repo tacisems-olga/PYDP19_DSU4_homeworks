{
 "cells": [
  {
   "cell_type": "markdown",
   "metadata": {},
   "source": [
    "### Домашнее задание \"Производная функции нескольких аргументов\"."
   ]
  },
  {
   "cell_type": "markdown",
   "metadata": {},
   "source": [
    "### Уровень 0.\n",
    "Посчитайте частные производные функций:\n",
    "\n",
    "1) $f(x,y)=2x^2y^3 + 1/x + y^2x + 7$, а для этой функции также градиент в точке $(1,2)$\n",
    "\n",
    "2) $f(x,y)=x^2y - sin(xy) + cos(x^2) + 6y$"
   ]
  },
  {
   "cell_type": "code",
   "execution_count": 110,
   "metadata": {},
   "outputs": [],
   "source": [
    "import numpy as np\n",
    "from sympy import *\n",
    "from scipy.optimize import approx_fprime\n",
    "from scipy.optimize import minimize\n",
    "from scipy import optimize"
   ]
  },
  {
   "cell_type": "code",
   "execution_count": 86,
   "metadata": {},
   "outputs": [
    {
     "name": "stdout",
     "output_type": "stream",
     "text": [
      "Значение производной по х в точке (1,2):  4*x*y**3 + y**2 - 1/x**2  =  35.0000000000000\n",
      "Значение производной по y в точке (1,2):  6*x**2*y**2 + 2*x*y  =  28.0000000000000\n",
      "Значение производной по обеим осям в точке (1,2):  2*y*(6*x*y + 1)  =  52.0000000000000\n",
      "Значение градиента в точке (1,2):  [35.0000000000000 28.0000000000000]\n"
     ]
    }
   ],
   "source": [
    "# 1) Посчитайте частные производные функции 𝑓(𝑥,𝑦)=2(𝑥**2)(𝑦**3)+1/𝑥+(𝑦**2)𝑥+7 , а для этой функции также градиент в точке (1,2)\n",
    "\n",
    "def f(x,y): #Создала исходящую функцию\n",
    "    return 2*(x**2)*(y**3) + 1*(x**(-1)) + 1*x*(y**2) + 7\n",
    "def f1(x,y): #Создала функцию производной по оси Х\n",
    "    return diff(f(x,y), x)\n",
    "def f2(x,y): #Создала функцию производной по оси Y\n",
    "    return diff(f(x,y), y)\n",
    "def f3(x,y): #Создала функцию производной по обеим осям x и y\n",
    "    return diff(f(x,y), x,y)\n",
    "\n",
    "x,y = symbols('x y') # перевела переменные в символьные значения\n",
    "grad = np.array([f1(x,y).evalf(subs = {x:1,y:2}), f2(x,y).evalf(subs = {x:1,y:2})]) #Вычислила градиент вручную (через функцию расчет ниже)\n",
    "print('Значение производной по х в точке (1,2): ', f1(x,y), ' = ', f1(x,y).evalf(subs = {x:1,y:2}))\n",
    "print('Значение производной по y в точке (1,2): ', f2(x,y), ' = ', f2(x,y).evalf(subs = {x:1,y:2}))\n",
    "print('Значение производной по обеим осям в точке (1,2): ', f3(x,y), ' = ', f3(x,y).evalf(subs = {x:1,y:2}))\n",
    "print('Значение градиента в точке (1,2): ', grad)"
   ]
  },
  {
   "cell_type": "code",
   "execution_count": 78,
   "metadata": {},
   "outputs": [
    {
     "data": {
      "text/plain": [
       "array([35.00000024, 28.00000024])"
      ]
     },
     "execution_count": 78,
     "metadata": {},
     "output_type": "execute_result"
    }
   ],
   "source": [
    "# Градиент также можно посчитать и без расчета производных:\n",
    "# P.S.(я не поняла, каким образом можно использовать approx_fprime, если функция будет выражена не через вектор переменных Х,\n",
    "# а через 2 переменные x и y, как это выражено выше. Я постоянно натыкалась на разного типа ошибки и в итоге в них закопалась,\n",
    "# что проще стало переделать на этот вариант, который отработал сразу как в лекционном примере.\n",
    "# И еще я не поняла, для чего в лекционном примере (и в таком же примере в нете) выносились значения коэффициентов отдельно)\n",
    "def f(x):\n",
    "    return 2*(x[0]**2)*(x[1]**3) + 1*(x[0]**(-1)) + 1*x[0]*(x[1]**2) + 7\n",
    "eps = np.sqrt(np.finfo(float).eps)\n",
    "x = np.array([1,2])\n",
    "approx_fprime(x, f, [eps, eps]) #вычислила градиент через функцию"
   ]
  },
  {
   "cell_type": "code",
   "execution_count": 88,
   "metadata": {},
   "outputs": [
    {
     "name": "stdout",
     "output_type": "stream",
     "text": [
      "Значение производной по х:  2*x*y - 2*x*sin(x**2) - y*cos(x*y)\n",
      "Значение производной по y:  x**2 - x*cos(x*y) + 6\n",
      "Значение производной по обеим осям x и y:  x*y*sin(x*y) + 2*x - cos(x*y)\n"
     ]
    }
   ],
   "source": [
    "#2) Посчитайте частные производные функции 𝑓(𝑥,𝑦)=(x**2)*y - sin(x*y) + cos(x**2) + 6*y\n",
    "\n",
    "def f(x,y): #Создала исходящую функцию\n",
    "    return (x**2)*y - sin(x*y) + cos(x**2) + 6*y\n",
    "def f1(x,y): #Создала функцию производной по оси Х\n",
    "    return diff(f(x,y), x)\n",
    "def f2(x,y): #Создала функцию производной по оси Y\n",
    "    return diff(f(x,y), y)\n",
    "def f3(x,y): #Создала функцию производной по обеим осям x и y\n",
    "    return diff(f(x,y), x,y)\n",
    "\n",
    "x,y = symbols('x y') # перевела переменные в символьные значения\n",
    "print('Значение производной по х: ', f1(x,y))\n",
    "print('Значение производной по y: ', f2(x,y))\n",
    "print('Значение производной по обеим осям x и y: ', f3(x,y))"
   ]
  },
  {
   "cell_type": "markdown",
   "metadata": {},
   "source": [
    "### Уровень 1. Градиентный спуск своими руками:"
   ]
  },
  {
   "cell_type": "code",
   "execution_count": 89,
   "metadata": {},
   "outputs": [],
   "source": [
    "def f(x):\n",
    "    return (x[0]**2) + (x[1]**2)"
   ]
  },
  {
   "cell_type": "code",
   "execution_count": 136,
   "metadata": {},
   "outputs": [],
   "source": [
    "x = np.array([100,100]) #Точка с которой будет начато движение\n",
    "step = 0.2 #Размер шага. Его можно менять, и при разных значениях может быть разный результат\n",
    "eps = np.sqrt(np.finfo(float).eps)\n",
    "\n",
    "for i in range(68):    # Задано кол-во выполняемых шагов. Тоже подбирается нужное кол-во.\n",
    "    grad = approx_fprime(x, f, [eps, eps])    #Вычисление градиента\n",
    "    x = x - step*grad"
   ]
  },
  {
   "cell_type": "code",
   "execution_count": 137,
   "metadata": {},
   "outputs": [
    {
     "name": "stdout",
     "output_type": "stream",
     "text": [
      "Минимум достигается в:  [-7.45049851e-09 -7.45049851e-09]\n",
      "Значение функции в минимуме:  1.1101985603265313e-16\n"
     ]
    }
   ],
   "source": [
    "print(\"Минимум достигается в: \", x)\n",
    "print(\"Значение функции в минимуме: \", f(x))"
   ]
  },
  {
   "cell_type": "markdown",
   "metadata": {},
   "source": [
    "Проверка с помощью встроенной функции numpy:"
   ]
  },
  {
   "cell_type": "code",
   "execution_count": 138,
   "metadata": {},
   "outputs": [
    {
     "name": "stdout",
     "output_type": "stream",
     "text": [
      "Optimization terminated successfully.\n",
      "         Current function value: 0.000000\n",
      "         Iterations: 68\n",
      "         Function evaluations: 127\n",
      " final_simplex: (array([[ 2.89176800e-07, -9.96982770e-08],\n",
      "       [-2.01861670e-07,  6.71100686e-07],\n",
      "       [-2.67299398e-07, -6.73200103e-07]]), array([9.35629684e-14, 4.91124264e-13, 5.24647346e-13]))\n",
      "           fun: 9.356296836224926e-14\n",
      "       message: 'Optimization terminated successfully.'\n",
      "          nfev: 127\n",
      "           nit: 68\n",
      "        status: 0\n",
      "       success: True\n",
      "             x: array([ 2.8917680e-07, -9.9698277e-08])\n"
     ]
    }
   ],
   "source": [
    "print(minimize(f, [100,100], method='nelder-mead', options={'xtol': 1e-6, 'disp': True}))"
   ]
  },
  {
   "cell_type": "code",
   "execution_count": null,
   "metadata": {},
   "outputs": [],
   "source": []
  },
  {
   "cell_type": "code",
   "execution_count": null,
   "metadata": {},
   "outputs": [],
   "source": []
  }
 ],
 "metadata": {
  "kernelspec": {
   "display_name": "Python 3",
   "language": "python",
   "name": "python3"
  },
  "language_info": {
   "codemirror_mode": {
    "name": "ipython",
    "version": 3
   },
   "file_extension": ".py",
   "mimetype": "text/x-python",
   "name": "python",
   "nbconvert_exporter": "python",
   "pygments_lexer": "ipython3",
   "version": "3.8.5"
  }
 },
 "nbformat": 4,
 "nbformat_minor": 4
}
