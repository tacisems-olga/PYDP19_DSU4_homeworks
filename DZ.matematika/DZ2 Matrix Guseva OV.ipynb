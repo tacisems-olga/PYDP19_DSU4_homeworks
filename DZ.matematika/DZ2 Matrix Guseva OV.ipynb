{
 "cells": [
  {
   "cell_type": "markdown",
   "metadata": {},
   "source": [
    "## Домашнее задание \"Линейная алгебра. Матрицы\".\n",
    "### Уровень 0:  \n",
    "Создайте матрицу 3 на 3, заполненную числами от 1 до 9  \n",
    "Прибавьте к ней матрицу с единицами на диагонале  \n",
    "Умножьте полученную матрицу на вектор (1, 2, 3)  \n",
    "Посчитайте обратную матрицу к полученной в результате прибавления матрице  "
   ]
  },
  {
   "cell_type": "code",
   "execution_count": 2,
   "metadata": {},
   "outputs": [],
   "source": [
    "import numpy as np\n",
    "import matplotlib.pyplot as plt"
   ]
  },
  {
   "cell_type": "code",
   "execution_count": 9,
   "metadata": {},
   "outputs": [
    {
     "data": {
      "text/plain": [
       "array([[7, 4, 3],\n",
       "       [1, 1, 3],\n",
       "       [3, 3, 6]])"
      ]
     },
     "execution_count": 9,
     "metadata": {},
     "output_type": "execute_result"
    }
   ],
   "source": [
    "# Создайте матрицу 3 на 3, заполненную числами от 1 до 9\n",
    "a = np.random.randint(1, 10, size = (3, 3))\n",
    "a"
   ]
  },
  {
   "cell_type": "code",
   "execution_count": 13,
   "metadata": {},
   "outputs": [
    {
     "data": {
      "text/plain": [
       "array([[8., 4., 3.],\n",
       "       [1., 2., 3.],\n",
       "       [3., 3., 7.]])"
      ]
     },
     "execution_count": 13,
     "metadata": {},
     "output_type": "execute_result"
    }
   ],
   "source": [
    "# Прибавьте к ней матрицу с единицами на диагонале\n",
    "e = np.eye(3)\n",
    "a = a + e\n",
    "a"
   ]
  },
  {
   "cell_type": "code",
   "execution_count": 15,
   "metadata": {},
   "outputs": [
    {
     "data": {
      "text/plain": [
       "array([25., 14., 30.])"
      ]
     },
     "execution_count": 15,
     "metadata": {},
     "output_type": "execute_result"
    }
   ],
   "source": [
    "# Умножьте полученную матрицу на вектор (1, 2, 3)\n",
    "v = np.array([1, 2, 3])\n",
    "a1 = a@v\n",
    "a1"
   ]
  },
  {
   "cell_type": "code",
   "execution_count": 18,
   "metadata": {},
   "outputs": [
    {
     "data": {
      "text/plain": [
       "array([[ 0.12820513, -0.48717949,  0.15384615],\n",
       "       [ 0.05128205,  1.20512821, -0.53846154],\n",
       "       [-0.07692308, -0.30769231,  0.30769231]])"
      ]
     },
     "execution_count": 18,
     "metadata": {},
     "output_type": "execute_result"
    }
   ],
   "source": [
    "# Посчитайте обратную матрицу к полученной в результате прибавления матрице\n",
    "a2 = np.linalg.inv(a)\n",
    "a2"
   ]
  },
  {
   "cell_type": "markdown",
   "metadata": {},
   "source": [
    "### Уровень 1:   \n",
    "Дан объект в 2d пространстве.\n",
    "При помощи матричных операций выполните:   \n",
    "1) Уменьшить объект в два раза   \n",
    "2) Повернуть на 130 градусов   \n",
    "3) Отразить объект относительно прямой y=x   \n",
    "4) Выполнить смещение объекта и масштабирование (применить 2 матрицы трансформаций).   \n",
    " Смещение на (200, 300) и масштабирование на (0.5, 1.2)   "
   ]
  },
  {
   "cell_type": "code",
   "execution_count": 3,
   "metadata": {},
   "outputs": [
    {
     "data": {
      "text/plain": [
       "(-200.0, 200.0)"
      ]
     },
     "execution_count": 3,
     "metadata": {},
     "output_type": "execute_result"
    },
    {
     "data": {
      "image/png": "[encoded data removed]",
      "text/plain": [
       "<Figure size 432x288 with 1 Axes>"
      ]
     },
     "metadata": {
      "needs_background": "light"
     },
     "output_type": "display_data"
    }
   ],
   "source": [
    "# Исходные данные\n",
    "A = [\n",
    "[-100, -100, 1],\n",
    "[-100, 100, 1],\n",
    "[100, 100, 1],\n",
    "[0, 0, 1],\n",
    "[100, -100, 1],\n",
    "[-100, -100, 1]\n",
    "]\n",
    "A = np.array(A)\n",
    "x = A[:,0]\n",
    "y = A[:,1]\n",
    "\n",
    "plt.plot(x, y)\n",
    "plt.ylim([-200, 200])\n",
    "plt.xlim([-200, 200])"
   ]
  },
  {
   "cell_type": "code",
   "execution_count": 87,
   "metadata": {},
   "outputs": [
    {
     "data": {
      "text/plain": [
       "(-200.0, 200.0)"
      ]
     },
     "execution_count": 87,
     "metadata": {},
     "output_type": "execute_result"
    },
    {
     "data": {
      "image/png": "[encoded data removed]",
      "text/plain": [
       "<Figure size 432x288 with 1 Axes>"
      ]
     },
     "metadata": {
      "needs_background": "light"
     },
     "output_type": "display_data"
    }
   ],
   "source": [
    "# 1) Уменьшить объект в два раза\n",
    "A1 = A*1/2\n",
    "x1 = A1[:,0]\n",
    "y1 = A1[:,1]\n",
    "plt.plot(x1, y1)\n",
    "plt.ylim([-200, 200])\n",
    "plt.xlim([-200, 200])"
   ]
  },
  {
   "cell_type": "code",
   "execution_count": 88,
   "metadata": {},
   "outputs": [
    {
     "data": {
      "text/plain": [
       "(-200.0, 200.0)"
      ]
     },
     "execution_count": 88,
     "metadata": {},
     "output_type": "execute_result"
    },
    {
     "data": {
      "image/png": "[encoded data removed]",
      "text/plain": [
       "<Figure size 432x288 with 1 Axes>"
      ]
     },
     "metadata": {
      "needs_background": "light"
     },
     "output_type": "display_data"
    }
   ],
   "source": [
    "# 2а) Повернуть на 130 градусов (вокруг оси Х)\n",
    "B = np.array([[1, 0, 0], [0, np.cos(13*np.pi/18), -np.sin(13*np.pi/18)], [0, np.sin(13*np.pi/18), np.cos(13*np.pi/18)]])\n",
    "A1 = A@B\n",
    "x1 = A1[:,0]\n",
    "y1 = A1[:,1]\n",
    "plt.plot(x1, y1)\n",
    "plt.ylim([-200, 200])\n",
    "plt.xlim([-200, 200])"
   ]
  },
  {
   "cell_type": "code",
   "execution_count": 89,
   "metadata": {},
   "outputs": [
    {
     "data": {
      "text/plain": [
       "(-200.0, 200.0)"
      ]
     },
     "execution_count": 89,
     "metadata": {},
     "output_type": "execute_result"
    },
    {
     "data": {
      "image/png": "[encoded data removed]",
      "text/plain": [
       "<Figure size 432x288 with 1 Axes>"
      ]
     },
     "metadata": {
      "needs_background": "light"
     },
     "output_type": "display_data"
    }
   ],
   "source": [
    "# 2б) Повернуть на 130 градусов (вокруг оси Y)\n",
    "B = np.array([[np.cos(13*np.pi/18), 0, np.sin(13*np.pi/18)], [0, 1, 0], [-np.sin(13*np.pi/18), 0, np.cos(13*np.pi/18)]])\n",
    "A1 = A@B\n",
    "x1 = A1[:,0]\n",
    "y1 = A1[:,1]\n",
    "plt.plot(x1, y1)\n",
    "plt.ylim([-200, 200])\n",
    "plt.xlim([-200, 200])"
   ]
  },
  {
   "cell_type": "code",
   "execution_count": 4,
   "metadata": {},
   "outputs": [
    {
     "data": {
      "text/plain": [
       "(-200.0, 200.0)"
      ]
     },
     "execution_count": 4,
     "metadata": {},
     "output_type": "execute_result"
    },
    {
     "data": {
      "image/png": "[encoded data removed]",
      "text/plain": [
       "<Figure size 432x288 with 1 Axes>"
      ]
     },
     "metadata": {
      "needs_background": "light"
     },
     "output_type": "display_data"
    }
   ],
   "source": [
    "# 3б) Повернуть на 130 градусов (вокруг оси Z)\n",
    "B = np.array([[np.cos(13*np.pi/18), -np.sin(13*np.pi/18),0], [np.sin(13*np.pi/18), np.cos(13*np.pi/18), 0], [0, 0, 1]])\n",
    "A1 = A@B\n",
    "x1 = A1[:,0]\n",
    "y1 = A1[:,1]\n",
    "plt.plot(x1, y1)\n",
    "plt.ylim([-200, 200])\n",
    "plt.xlim([-200, 200])"
   ]
  },
  {
   "cell_type": "code",
   "execution_count": 69,
   "metadata": {},
   "outputs": [
    {
     "data": {
      "text/plain": [
       "(-200.0, 200.0)"
      ]
     },
     "execution_count": 69,
     "metadata": {},
     "output_type": "execute_result"
    },
    {
     "data": {
      "image/png": "[encoded data removed]",
      "text/plain": [
       "<Figure size 432x288 with 1 Axes>"
      ]
     },
     "metadata": {
      "needs_background": "light"
     },
     "output_type": "display_data"
    }
   ],
   "source": [
    "# 3) Отразить объект относительно прямой y=x\n",
    "B = np.array([[0, 1, 0], [1, 0, 0], [0, 0, 1]])\n",
    "A1 = A@B\n",
    "x1 = A1[:,0]\n",
    "y1 = A1[:,1]\n",
    "plt.plot(x1, y1)\n",
    "plt.ylim([-200, 200])\n",
    "plt.xlim([-200, 200])"
   ]
  },
  {
   "cell_type": "code",
   "execution_count": 85,
   "metadata": {},
   "outputs": [
    {
     "data": {
      "text/plain": [
       "(-200.0, 200.0)"
      ]
     },
     "execution_count": 85,
     "metadata": {},
     "output_type": "execute_result"
    },
    {
     "data": {
      "image/png": "[encoded data removed]",
      "text/plain": [
       "<Figure size 432x288 with 1 Axes>"
      ]
     },
     "metadata": {
      "needs_background": "light"
     },
     "output_type": "display_data"
    }
   ],
   "source": [
    "# 4) Выполнить смещение объекта и масштабирование (применить 2 матрицы трансформаций).   \n",
    "# Смещение на (200, 300) и масштабирование на (0.5, 1.2)\n",
    "B = np.array(\n",
    "    [[200, 300, 0],\n",
    "    [200, 300, 0],\n",
    "    [200, 300, 0],\n",
    "    [200, 300, 0],\n",
    "    [200, 300, 0],\n",
    "    [200, 300, 0]])\n",
    "C = np.array([[1/2, 0, 0], [0, 1.2, 0], [0, 0, 1]])\n",
    "\n",
    "A1 = (A + B)@C\n",
    "x1 = A1[:,0]\n",
    "y1 = A1[:,1]\n",
    "plt.plot(x1, y1)\n",
    "plt.ylim([200, 600])\n",
    "plt.xlim([-200, 200])\n"
   ]
  },
  {
   "cell_type": "code",
   "execution_count": null,
   "metadata": {},
   "outputs": [],
   "source": []
  },
  {
   "cell_type": "code",
   "execution_count": null,
   "metadata": {},
   "outputs": [],
   "source": []
  }
 ],
 "metadata": {
  "kernelspec": {
   "display_name": "Python 3",
   "language": "python",
   "name": "python3"
  },
  "language_info": {
   "codemirror_mode": {
    "name": "ipython",
    "version": 3
   },
   "file_extension": ".py",
   "mimetype": "text/x-python",
   "name": "python",
   "nbconvert_exporter": "python",
   "pygments_lexer": "ipython3",
   "version": "3.8.5"
  }
 },
 "nbformat": 4,
 "nbformat_minor": 4
}
